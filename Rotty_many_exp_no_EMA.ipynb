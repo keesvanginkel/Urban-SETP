{
 "cells": [
  {
   "cell_type": "code",
   "execution_count": null,
   "metadata": {},
   "outputs": [],
   "source": [
    "from tqdm.notebook import trange, tqdm"
   ]
  },
  {
   "cell_type": "code",
   "execution_count": null,
   "metadata": {},
   "outputs": [],
   "source": [
    "len(allSurgeLevel)*len(allMayors)*len(Implementation_times)"
   ]
  },
  {
   "cell_type": "code",
   "execution_count": null,
   "metadata": {},
   "outputs": [],
   "source": [
    "#run all Majors\n",
    "allExperiments = []\n",
    "with tqdm(total =len(allSurgeLevel)*len(allMayors)*len(Implementation_times)) as pbar:\n",
    "    for SurgeLevel in allSurgeLevel:\n",
    "        #print(\"\\n \\n {} \\n\\n------------- \\n\\n\".format(SurgeLevel.name))\n",
    "        for Mayor in allMayors:\n",
    "            for implementation_time in Implementation_times:\n",
    "                experiment = run_model01(Rotty,SurgeLevel,Mayor,implementation_time,do_print=False)\n",
    "                allExperiments.append(experiment)\n",
    "            pbar.update(1)\n",
    "print('experiments finished')"
   ]
  },
  {
   "cell_type": "code",
   "execution_count": null,
   "metadata": {},
   "outputs": [],
   "source": [
    "experiments=allExperiments\n",
    "\n",
    "foldername = \"temp\"\n",
    "subfolder = \"experiments\"\n",
    "target = os.path.join(foldername,subfolder)\n",
    "\n",
    "today = datetime.date(datetime.now())\n",
    "date = \"{}_{}_{}\".format(today.year,today.month,today.day)\n",
    "\n",
    "if not os.path.exists(foldername):\n",
    "    os.mkdir(foldername)\n",
    "    if not os.path.exists(target):\n",
    "        os.mkdir(target)\n",
    "\n",
    "pickle.dump(experiments, open( os.path.join(target,\"experiment_\" + date +  \".p\"), \"wb\") ) "
   ]
  }
 ],
 "metadata": {
  "kernelspec": {
   "display_name": "Python 3",
   "language": "python",
   "name": "python3"
  },
  "language_info": {
   "codemirror_mode": {
    "name": "ipython",
    "version": 3
   },
   "file_extension": ".py",
   "mimetype": "text/x-python",
   "name": "python",
   "nbconvert_exporter": "python",
   "pygments_lexer": "ipython3",
   "version": "3.8.2"
  }
 },
 "nbformat": 4,
 "nbformat_minor": 4
}
