{
 "cells": [
  {
   "cell_type": "code",
   "execution_count": 1,
   "metadata": {},
   "outputs": [],
   "source": [
    "import os as os\n",
    "import pandas as pd\n",
    "from collections import OrderedDict"
   ]
  },
  {
   "cell_type": "markdown",
   "metadata": {},
   "source": [
    "### Load dataset\n",
    "Horton, B.P., Khan, N.S., Cahill, N. et al. Estimating global mean sea-level rise and its uncertainties by 2100 and 2300 from an expert survey. npj Clim Atmos Sci 3, 18 (2020). https://doi.org/10.1038/s41612-020-0121-5\n",
    "\n",
    "Likely ranges and very likely ranges for 2100 and 2300 from expert survey in 2020.\n",
    "Realtive to SL in 1986-2005 (1996)"
   ]
  },
  {
   "cell_type": "code",
   "execution_count": 7,
   "metadata": {},
   "outputs": [
    {
     "data": {
      "text/html": [
       "<div>\n",
       "<style scoped>\n",
       "    .dataframe tbody tr th:only-of-type {\n",
       "        vertical-align: middle;\n",
       "    }\n",
       "\n",
       "    .dataframe tbody tr th {\n",
       "        vertical-align: top;\n",
       "    }\n",
       "\n",
       "    .dataframe thead th {\n",
       "        text-align: right;\n",
       "    }\n",
       "</style>\n",
       "<table border=\"1\" class=\"dataframe\">\n",
       "  <thead>\n",
       "    <tr style=\"text-align: right;\">\n",
       "      <th></th>\n",
       "      <th>5</th>\n",
       "      <th>17</th>\n",
       "      <th>50</th>\n",
       "      <th>83</th>\n",
       "      <th>95</th>\n",
       "    </tr>\n",
       "  </thead>\n",
       "  <tbody>\n",
       "    <tr>\n",
       "      <th>1996</th>\n",
       "      <td>0.00</td>\n",
       "      <td>0.00</td>\n",
       "      <td>0.00</td>\n",
       "      <td>0.00</td>\n",
       "      <td>0.00</td>\n",
       "    </tr>\n",
       "    <tr>\n",
       "      <th>2100</th>\n",
       "      <td>0.45</td>\n",
       "      <td>0.63</td>\n",
       "      <td>0.93</td>\n",
       "      <td>1.32</td>\n",
       "      <td>1.65</td>\n",
       "    </tr>\n",
       "    <tr>\n",
       "      <th>2300</th>\n",
       "      <td>0.88</td>\n",
       "      <td>1.67</td>\n",
       "      <td>3.29</td>\n",
       "      <td>5.61</td>\n",
       "      <td>7.83</td>\n",
       "    </tr>\n",
       "  </tbody>\n",
       "</table>\n",
       "</div>"
      ],
      "text/plain": [
       "         5    17    50    83    95\n",
       "1996  0.00  0.00  0.00  0.00  0.00\n",
       "2100  0.45  0.63  0.93  1.32  1.65\n",
       "2300  0.88  1.67  3.29  5.61  7.83"
      ]
     },
     "execution_count": 7,
     "metadata": {},
     "output_type": "execute_result"
    }
   ],
   "source": [
    "#Values from Horton et al. 2100, table 1\n",
    "index = [1996,2100,2300]\n",
    "Horton_rcp26 = {'5' : [0,0.21,0.24],\n",
    "                '17': [0,0.30,0.54],\n",
    "                '50': [0,0.45,1.18],\n",
    "                '83': [0,0.65,2.15],\n",
    "                '95': [0,0.82,3.11]}\n",
    "Horton_rcp26 = pd.DataFrame(Horton_rcp26,index=index)\n",
    "Horton_rcp85 = {'5' : [0,0.45,0.88],\n",
    "                '17': [0,0.63,1.67],\n",
    "                '50': [0,0.93,3.29],\n",
    "                '83': [0,1.32,5.61],\n",
    "                '95': [0,1.65,7.83]}\n",
    "Horton_rcp85 = pd.DataFrame(Horton_rcp85,index=index)\n",
    "Horton_rcp85"
   ]
  },
  {
   "cell_type": "code",
   "execution_count": 11,
   "metadata": {},
   "outputs": [],
   "source": [
    "sel = Horton_rcp85\n",
    "for key in sel:\n",
    "    header = 'Horton_2020_rcp85_' + key\n",
    "    df = sel[key]\n",
    "    df2 = pd.DataFrame(index=range(1996,2301),columns=[key])\n",
    "    df2.update(df)\n",
    "    df2 = df2.astype('float')\n",
    "    df2.interpolate(method='linear',axes='index',inplace=True)\n",
    "    df2.to_csv(header+'.csv',header=False)"
   ]
  }
 ],
 "metadata": {
  "kernelspec": {
   "display_name": "Python 3",
   "language": "python",
   "name": "python3"
  },
  "language_info": {
   "codemirror_mode": {
    "name": "ipython",
    "version": 3
   },
   "file_extension": ".py",
   "mimetype": "text/x-python",
   "name": "python",
   "nbconvert_exporter": "python",
   "pygments_lexer": "ipython3",
   "version": "3.8.2"
  }
 },
 "nbformat": 4,
 "nbformat_minor": 4
}
