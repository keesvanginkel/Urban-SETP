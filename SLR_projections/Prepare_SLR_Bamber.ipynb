{
 "cells": [
  {
   "cell_type": "code",
   "execution_count": 3,
   "metadata": {},
   "outputs": [],
   "source": [
    "import os as os\n",
    "import pandas as pd\n",
    "from collections import OrderedDict"
   ]
  },
  {
   "cell_type": "markdown",
   "metadata": {},
   "source": [
    "### Data source\n",
    "Bamber, J. L., Oppenheimer, M., Kopp, R. E., Aspinall, W. P., & Cooke, R. M. (2019). Ice sheet contributions to future sea-level rise from structured expert judgment. Proceedings of the National Academy of Sciences of the United States of America, 166(23), 11195–11200. https://doi.org/10.1073/pnas.1817205116\n",
    "\n",
    "This only seems to include the SLR contributions from icesheets melt, so actual values are higher."
   ]
  },
  {
   "cell_type": "code",
   "execution_count": 18,
   "metadata": {},
   "outputs": [
    {
     "data": {
      "text/html": [
       "<div>\n",
       "<style scoped>\n",
       "    .dataframe tbody tr th:only-of-type {\n",
       "        vertical-align: middle;\n",
       "    }\n",
       "\n",
       "    .dataframe tbody tr th {\n",
       "        vertical-align: top;\n",
       "    }\n",
       "\n",
       "    .dataframe thead th {\n",
       "        text-align: right;\n",
       "    }\n",
       "</style>\n",
       "<table border=\"1\" class=\"dataframe\">\n",
       "  <thead>\n",
       "    <tr style=\"text-align: right;\">\n",
       "      <th></th>\n",
       "      <th>5</th>\n",
       "      <th>17</th>\n",
       "      <th>50</th>\n",
       "      <th>83</th>\n",
       "      <th>95</th>\n",
       "    </tr>\n",
       "  </thead>\n",
       "  <tbody>\n",
       "    <tr>\n",
       "      <th>2000</th>\n",
       "      <td>0</td>\n",
       "      <td>0</td>\n",
       "      <td>0</td>\n",
       "      <td>0</td>\n",
       "      <td>0</td>\n",
       "    </tr>\n",
       "    <tr>\n",
       "      <th>2050</th>\n",
       "      <td>1</td>\n",
       "      <td>6</td>\n",
       "      <td>12</td>\n",
       "      <td>24</td>\n",
       "      <td>38</td>\n",
       "    </tr>\n",
       "    <tr>\n",
       "      <th>2100</th>\n",
       "      <td>7</td>\n",
       "      <td>22</td>\n",
       "      <td>51</td>\n",
       "      <td>112</td>\n",
       "      <td>178</td>\n",
       "    </tr>\n",
       "    <tr>\n",
       "      <th>2200</th>\n",
       "      <td>5</td>\n",
       "      <td>40</td>\n",
       "      <td>130</td>\n",
       "      <td>251</td>\n",
       "      <td>750</td>\n",
       "    </tr>\n",
       "    <tr>\n",
       "      <th>2300</th>\n",
       "      <td>14</td>\n",
       "      <td>87</td>\n",
       "      <td>225</td>\n",
       "      <td>466</td>\n",
       "      <td>988</td>\n",
       "    </tr>\n",
       "  </tbody>\n",
       "</table>\n",
       "</div>"
      ],
      "text/plain": [
       "       5  17   50   83   95\n",
       "2000   0   0    0    0    0\n",
       "2050   1   6   12   24   38\n",
       "2100   7  22   51  112  178\n",
       "2200   5  40  130  251  750\n",
       "2300  14  87  225  466  988"
      ]
     },
     "execution_count": 18,
     "metadata": {},
     "output_type": "execute_result"
    }
   ],
   "source": [
    "#Values from Bamber et al. (2019), Table 1: projected sea-level rise contributions for all icesheets combined\n",
    "index = [2000,2050,2100,2200,2300]\n",
    "Bamber_low = {'5'  : [0,1,3,5,0], #all in cm\n",
    "              '17' : [0,5,12,30,47],\n",
    "              '50' : [0,10,26,72,120],\n",
    "              '83' : [0,18,53,149,259],\n",
    "              '95' : [0,27,81,231,426]}\n",
    "Bamber_low = pd.DataFrame(Bamber_low,index=index)\n",
    "Bamber_high = {'5' : [0,1,7,5,14],\n",
    "               '17': [0,6,22,40,87],\n",
    "               '50': [0,12,51,130,225],\n",
    "               '83': [0,24,112,251,466],\n",
    "               '95': [0,38,178,750,988]}\n",
    "Bamber_high = pd.DataFrame(Bamber_high,index=index)\n",
    "Bamber_high"
   ]
  },
  {
   "cell_type": "code",
   "execution_count": 40,
   "metadata": {},
   "outputs": [],
   "source": [
    "for key in Bamber_high:\n",
    "    header = 'Bamber_2019_high_' + key\n",
    "    df = Bamber_high[key]\n",
    "    df2 = pd.DataFrame(index=range(2000,2301),columns=[key])\n",
    "    df2.update(df)\n",
    "    df2 = df2.astype('float')\n",
    "    df2.interpolate(method='linear',axes='index',inplace=True)\n",
    "    df2 = df2 * 0.01 #convert to meters\n",
    "    df2.to_csv(header+'.csv',header=False)"
   ]
  }
 ],
 "metadata": {
  "kernelspec": {
   "display_name": "Python 3",
   "language": "python",
   "name": "python3"
  },
  "language_info": {
   "codemirror_mode": {
    "name": "ipython",
    "version": 3
   },
   "file_extension": ".py",
   "mimetype": "text/x-python",
   "name": "python",
   "nbconvert_exporter": "python",
   "pygments_lexer": "ipython3",
   "version": "3.8.2"
  }
 },
 "nbformat": 4,
 "nbformat_minor": 4
}
