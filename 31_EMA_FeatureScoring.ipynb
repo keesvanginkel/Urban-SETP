{
 "cells": [
  {
   "cell_type": "code",
   "execution_count": 1,
   "metadata": {},
   "outputs": [],
   "source": [
    "#Workbench imports\n",
    "import pandas as pd\n",
    "import matplotlib.pyplot as plt\n",
    "\n",
    "from pathlib import Path"
   ]
  },
  {
   "cell_type": "code",
   "execution_count": 3,
   "metadata": {},
   "outputs": [
    {
     "data": {
      "text/html": [
       "<div>\n",
       "<style scoped>\n",
       "    .dataframe tbody tr th:only-of-type {\n",
       "        vertical-align: middle;\n",
       "    }\n",
       "\n",
       "    .dataframe tbody tr th {\n",
       "        vertical-align: top;\n",
       "    }\n",
       "\n",
       "    .dataframe thead th {\n",
       "        text-align: right;\n",
       "    }\n",
       "</style>\n",
       "<table border=\"1\" class=\"dataframe\">\n",
       "  <thead>\n",
       "    <tr style=\"text-align: right;\">\n",
       "      <th></th>\n",
       "      <th>Housing_market</th>\n",
       "      <th>SLR</th>\n",
       "      <th>implementation_time</th>\n",
       "      <th>transient</th>\n",
       "      <th>Mayor</th>\n",
       "      <th>scenario</th>\n",
       "    </tr>\n",
       "  </thead>\n",
       "  <tbody>\n",
       "    <tr>\n",
       "      <th>395995</th>\n",
       "      <td>rational</td>\n",
       "      <td>1</td>\n",
       "      <td>4</td>\n",
       "      <td>SurgeHeight\\five_hundred\\five_hundred_430.csv</td>\n",
       "      <td>Lawkeeper</td>\n",
       "      <td>98995</td>\n",
       "    </tr>\n",
       "    <tr>\n",
       "      <th>395996</th>\n",
       "      <td>rational</td>\n",
       "      <td>3</td>\n",
       "      <td>13</td>\n",
       "      <td>SurgeHeight\\five_hundred\\five_hundred_453.csv</td>\n",
       "      <td>Lawkeeper</td>\n",
       "      <td>98996</td>\n",
       "    </tr>\n",
       "    <tr>\n",
       "      <th>395997</th>\n",
       "      <td>boundedly_rational</td>\n",
       "      <td>3</td>\n",
       "      <td>10</td>\n",
       "      <td>SurgeHeight\\five_hundred\\five_hundred_157.csv</td>\n",
       "      <td>Lawkeeper</td>\n",
       "      <td>98997</td>\n",
       "    </tr>\n",
       "    <tr>\n",
       "      <th>395998</th>\n",
       "      <td>boundedly_rational</td>\n",
       "      <td>5</td>\n",
       "      <td>11</td>\n",
       "      <td>SurgeHeight\\five_hundred\\five_hundred_32.csv</td>\n",
       "      <td>Lawkeeper</td>\n",
       "      <td>98998</td>\n",
       "    </tr>\n",
       "    <tr>\n",
       "      <th>395999</th>\n",
       "      <td>rational</td>\n",
       "      <td>6</td>\n",
       "      <td>4</td>\n",
       "      <td>SurgeHeight\\five_hundred\\five_hundred_308.csv</td>\n",
       "      <td>Lawkeeper</td>\n",
       "      <td>98999</td>\n",
       "    </tr>\n",
       "  </tbody>\n",
       "</table>\n",
       "</div>"
      ],
      "text/plain": [
       "            Housing_market SLR implementation_time  \\\n",
       "395995            rational   1                   4   \n",
       "395996            rational   3                  13   \n",
       "395997  boundedly_rational   3                  10   \n",
       "395998  boundedly_rational   5                  11   \n",
       "395999            rational   6                   4   \n",
       "\n",
       "                                            transient      Mayor scenario  \n",
       "395995  SurgeHeight\\five_hundred\\five_hundred_430.csv  Lawkeeper    98995  \n",
       "395996  SurgeHeight\\five_hundred\\five_hundred_453.csv  Lawkeeper    98996  \n",
       "395997  SurgeHeight\\five_hundred\\five_hundred_157.csv  Lawkeeper    98997  \n",
       "395998   SurgeHeight\\five_hundred\\five_hundred_32.csv  Lawkeeper    98998  \n",
       "395999  SurgeHeight\\five_hundred\\five_hundred_308.csv  Lawkeeper    98999  "
      ]
     },
     "execution_count": 3,
     "metadata": {},
     "output_type": "execute_result"
    }
   ],
   "source": [
    "from ema_workbench import load_results\n",
    "\n",
    "target = Path(\"temp\",\"experiments\")\n",
    "experiments, outcomes = load_results(target / \"2021_2_23_EMA_experiments_five_hundred.tar.gz\")\n",
    "experiments2 = experiments.drop(['policy','model'],axis=1)\n",
    "experiments2.tail()"
   ]
  },
  {
   "cell_type": "markdown",
   "metadata": {},
   "source": [
    "### Some preprocessing to make plots more appealing"
   ]
  },
  {
   "cell_type": "code",
   "execution_count": 4,
   "metadata": {},
   "outputs": [
    {
     "data": {
      "text/html": [
       "<div>\n",
       "<style scoped>\n",
       "    .dataframe tbody tr th:only-of-type {\n",
       "        vertical-align: middle;\n",
       "    }\n",
       "\n",
       "    .dataframe tbody tr th {\n",
       "        vertical-align: top;\n",
       "    }\n",
       "\n",
       "    .dataframe thead th {\n",
       "        text-align: right;\n",
       "    }\n",
       "</style>\n",
       "<table border=\"1\" class=\"dataframe\">\n",
       "  <thead>\n",
       "    <tr style=\"text-align: right;\">\n",
       "      <th></th>\n",
       "      <th>Housing market (R1)</th>\n",
       "      <th>SLR scenario (X1)</th>\n",
       "      <th>Implementation time (X3)</th>\n",
       "      <th>Transient storm surge (X2)</th>\n",
       "      <th>Management strategy (L1)</th>\n",
       "      <th>scenario</th>\n",
       "    </tr>\n",
       "  </thead>\n",
       "  <tbody>\n",
       "    <tr>\n",
       "      <th>0</th>\n",
       "      <td>0</td>\n",
       "      <td>4</td>\n",
       "      <td>12</td>\n",
       "      <td>119</td>\n",
       "      <td>0</td>\n",
       "      <td>0</td>\n",
       "    </tr>\n",
       "    <tr>\n",
       "      <th>1</th>\n",
       "      <td>0</td>\n",
       "      <td>4</td>\n",
       "      <td>14</td>\n",
       "      <td>90</td>\n",
       "      <td>0</td>\n",
       "      <td>1</td>\n",
       "    </tr>\n",
       "    <tr>\n",
       "      <th>2</th>\n",
       "      <td>0</td>\n",
       "      <td>2</td>\n",
       "      <td>10</td>\n",
       "      <td>220</td>\n",
       "      <td>0</td>\n",
       "      <td>2</td>\n",
       "    </tr>\n",
       "    <tr>\n",
       "      <th>3</th>\n",
       "      <td>0</td>\n",
       "      <td>9</td>\n",
       "      <td>9</td>\n",
       "      <td>141</td>\n",
       "      <td>0</td>\n",
       "      <td>3</td>\n",
       "    </tr>\n",
       "    <tr>\n",
       "      <th>4</th>\n",
       "      <td>1</td>\n",
       "      <td>5</td>\n",
       "      <td>13</td>\n",
       "      <td>7</td>\n",
       "      <td>0</td>\n",
       "      <td>4</td>\n",
       "    </tr>\n",
       "  </tbody>\n",
       "</table>\n",
       "</div>"
      ],
      "text/plain": [
       "  Housing market (R1) SLR scenario (X1)  Implementation time (X3)  \\\n",
       "0                   0                 4                        12   \n",
       "1                   0                 4                        14   \n",
       "2                   0                 2                        10   \n",
       "3                   0                 9                         9   \n",
       "4                   1                 5                        13   \n",
       "\n",
       "   Transient storm surge (X2) Management strategy (L1) scenario  \n",
       "0                         119                        0        0  \n",
       "1                          90                        0        1  \n",
       "2                         220                        0        2  \n",
       "3                         141                        0        3  \n",
       "4                           7                        0        4  "
      ]
     },
     "execution_count": 4,
     "metadata": {},
     "output_type": "execute_result"
    }
   ],
   "source": [
    "experiments3 = experiments2.copy()\n",
    "\n",
    "map_house_market = {'rational' : '1', \n",
    "             'boundedly_rational' :'0'}\n",
    "\n",
    "map_house_market_invert = {'1':'R', \n",
    "                           '0':'BR'}\n",
    "\n",
    "map_mayor = {'H. Economicus': '2',\n",
    "             'Sentiment' : '1',\n",
    "             'R. Active' : '0',\n",
    "             'Lawkeeper' : '3'}\n",
    "\n",
    "map_mayor_invert = { '2' : 'Economic',\n",
    "                    '1' : 'Sentiment',\n",
    "                    '0' : 'Reactive',\n",
    "                    '3' : 'Proactive'\n",
    "                    }\n",
    "\n",
    "\n",
    "rename_cols = {'Housing_market' : 'Housing market (R1)',\n",
    "               'SLR' : 'SLR scenario (X1)',\n",
    "               'implementation_time' : 'Implementation time (X3)',\n",
    "               'transient' : 'Transient storm surge (X2)',\n",
    "               'Mayor' : 'Management strategy (L1)'}\n",
    "\n",
    "experiments3['Housing_market'].replace(map_house_market,inplace=True)\n",
    "experiments3['Mayor'].replace(map_mayor,inplace=True)\n",
    "experiments3['transient'] = experiments3['transient'].apply(lambda s : int(s.split('_')[-1].split('.')[0]))\n",
    "cols_convert = ['transient', 'implementation_time']\n",
    "experiments3[cols_convert] = experiments3[cols_convert].astype('int')\n",
    "experiments3 = experiments3.rename(columns=rename_cols)\n",
    "experiments3.head()"
   ]
  },
  {
   "cell_type": "code",
   "execution_count": 5,
   "metadata": {},
   "outputs": [
    {
     "name": "stdout",
     "output_type": "stream",
     "text": [
      "<class 'pandas.core.frame.DataFrame'>\n",
      "RangeIndex: 396000 entries, 0 to 395999\n",
      "Data columns (total 6 columns):\n",
      " #   Column                      Non-Null Count   Dtype   \n",
      "---  ------                      --------------   -----   \n",
      " 0   Housing market (R1)         396000 non-null  object  \n",
      " 1   SLR scenario (X1)           396000 non-null  category\n",
      " 2   Implementation time (X3)    396000 non-null  int32   \n",
      " 3   Transient storm surge (X2)  396000 non-null  int32   \n",
      " 4   Management strategy (L1)    396000 non-null  object  \n",
      " 5   scenario                    396000 non-null  category\n",
      "dtypes: category(2), int32(2), object(2)\n",
      "memory usage: 14.2+ MB\n"
     ]
    }
   ],
   "source": [
    "experiments3.info()"
   ]
  },
  {
   "cell_type": "code",
   "execution_count": 26,
   "metadata": {},
   "outputs": [],
   "source": [
    "remap = {\"Area_A_HousePrice_2200\":\"HP_hp_2200\",\n",
    "         \"Area_A_timing_SETP\":\"HP_first_SETP\",\n",
    "         \"Area_B_HousePrice_2200\":\"CC_hp_2200\",\n",
    "         \"Area_B_timing_SETP\":\"CC_first_SETP\"}\n",
    "\n",
    "\n",
    "outcomes2 = {}\n",
    "for newlabel, oldlabel in remap.items():\n",
    "    outcomes2[newlabel] = outcomes[oldlabel]"
   ]
  },
  {
   "cell_type": "code",
   "execution_count": 27,
   "metadata": {},
   "outputs": [
    {
     "data": {
      "text/plain": [
       "{'Area_A_HousePrice_2200': array([0, 0, 0, ..., 0, 0, 0], dtype=int64),\n",
       " 'Area_A_timing_SETP': array([2081, 2080, 2040, ..., 2051, 2055, 9999], dtype=int64),\n",
       " 'Area_B_HousePrice_2200': array([282357.9820158 , 286542.15584763,      0.        , ...,\n",
       "        350017.41980036, 350036.70600789, 350040.12775439]),\n",
       " 'Area_B_timing_SETP': array([2096, 2125, 2106, ..., 9999, 9999, 9999], dtype=int64)}"
      ]
     },
     "execution_count": 27,
     "metadata": {},
     "output_type": "execute_result"
    }
   ],
   "source": [
    "outcomes2"
   ]
  },
  {
   "cell_type": "markdown",
   "metadata": {},
   "source": [
    "# Feature scoring\n",
    "### Regression \n",
    "The timing_SETP is set to 9999 if there is no tipping point in any of the years (<2300)"
   ]
  },
  {
   "cell_type": "code",
   "execution_count": 28,
   "metadata": {},
   "outputs": [
    {
     "data": {
      "image/png": "[encoded data removed]",
      "text/plain": [
       "<Figure size 432x288 with 2 Axes>"
      ]
     },
     "metadata": {
      "needs_background": "light"
     },
     "output_type": "display_data"
    }
   ],
   "source": [
    "from ema_workbench.analysis import feature_scoring\n",
    "import seaborn as sns\n",
    "\n",
    "x = experiments3\n",
    "y = outcomes2\n",
    "\n",
    "preferred_order = ['SLR scenario (X1)',\n",
    "                   'Transient storm surge (X2)',\n",
    "                   'Implementation time (X3)',\n",
    "                   'Management strategy (L1)',\n",
    "                   'Housing market (R1)']                   \n",
    "\n",
    "fs = feature_scoring.get_feature_scores_all(x, y)\n",
    "fs = fs.reindex(preferred_order)\n",
    "sns.heatmap(fs, cmap='viridis', annot=True)\n",
    "plt.show()"
   ]
  },
  {
   "cell_type": "markdown",
   "metadata": {},
   "source": [
    "The timing_SETP is set to 2500 if there is no tipping point in any of the years (<2300)"
   ]
  },
  {
   "cell_type": "code",
   "execution_count": 42,
   "metadata": {},
   "outputs": [
    {
     "data": {
      "text/plain": [
       "{'Area_A_HousePrice_2200': array([0, 0, 0, ..., 0, 0, 0], dtype=int64),\n",
       " 'Area_A_timing_SETP': array([2081, 2080, 2040, ..., 2051, 2055, 2500], dtype=int64),\n",
       " 'Area_B_HousePrice_2200': array([282357.9820158 , 286542.15584763,      0.        , ...,\n",
       "        350017.41980036, 350036.70600789, 350040.12775439]),\n",
       " 'Area_B_timing_SETP': array([2096, 2125, 2106, ..., 2500, 2500, 2500], dtype=int64)}"
      ]
     },
     "execution_count": 42,
     "metadata": {},
     "output_type": "execute_result"
    }
   ],
   "source": [
    "import numpy as np\n",
    "outcomes3=outcomes2.copy()\n",
    "for key, values in outcomes2.items():\n",
    "    if key in [\"Area_A_timing_SETP\",\"Area_B_timing_SETP\"]:\n",
    "        outcomes3[key] = np.array([2500 if y == 9999 else y for y in values])\n",
    "outcomes3"
   ]
  },
  {
   "cell_type": "code",
   "execution_count": 45,
   "metadata": {},
   "outputs": [
    {
     "data": {
      "image/png": "[encoded data removed]",
      "text/plain": [
       "<Figure size 432x288 with 2 Axes>"
      ]
     },
     "metadata": {
      "needs_background": "light"
     },
     "output_type": "display_data"
    }
   ],
   "source": [
    "x = experiments3\n",
    "y = outcomes3\n",
    "\n",
    "preferred_order = ['SLR scenario (X1)',\n",
    "                   'Transient storm surge (X2)',\n",
    "                   'Implementation time (X3)',\n",
    "                   'Management strategy (L1)',\n",
    "                   'Housing market (R1)']                   \n",
    "\n",
    "fs = feature_scoring.get_feature_scores_all(x, y)\n",
    "fs = fs.reindex(preferred_order)\n",
    "sns.heatmap(fs, cmap='viridis', annot=True)\n",
    "plt.show()"
   ]
  },
  {
   "cell_type": "markdown",
   "metadata": {},
   "source": [
    "Timing set to 2300"
   ]
  },
  {
   "cell_type": "code",
   "execution_count": 55,
   "metadata": {},
   "outputs": [
    {
     "data": {
      "image/png": "[encoded data removed]",
      "text/plain": [
       "<Figure size 432x288 with 2 Axes>"
      ]
     },
     "metadata": {
      "needs_background": "light"
     },
     "output_type": "display_data"
    }
   ],
   "source": [
    "import numpy as np\n",
    "outcomes4=outcomes2.copy()\n",
    "for key, values in outcomes2.items():\n",
    "    if key in [\"Area_A_timing_SETP\",\"Area_B_timing_SETP\"]:\n",
    "        outcomes4[key] = np.array([2300 if y == 9999 else y for y in values])\n",
    "        \n",
    "x = experiments3\n",
    "y = outcomes4\n",
    "\n",
    "preferred_order = ['SLR scenario (X1)',\n",
    "                   'Transient storm surge (X2)',\n",
    "                   'Implementation time (X3)',\n",
    "                   'Management strategy (L1)',\n",
    "                   'Housing market (R1)']                   \n",
    "\n",
    "fig, ax = plt.subplots()\n",
    "\n",
    "fs = feature_scoring.get_feature_scores_all(x, y)\n",
    "fs = fs.reindex(preferred_order)\n",
    "ax = sns.heatmap(fs, cmap='viridis', annot=True,fmt='.2f')"
   ]
  },
  {
   "cell_type": "code",
   "execution_count": 58,
   "metadata": {},
   "outputs": [],
   "source": [
    "from datetime import datetime\n",
    "today = datetime.date(datetime.now())\n",
    "date = \"{}_{}_{}\".format(today.year,today.month,today.day)\n",
    "target = Path('Visualisations') / date\n",
    "\n",
    "if not Path.exists(target): Path.mkdir(target)\n",
    "\n",
    "fig.savefig((target / \"FeatureScoring_regression_EMA_2021_2_23.png\"),bbox_inches=\"tight\",dpi=200)"
   ]
  }
 ],
 "metadata": {
  "kernelspec": {
   "display_name": "Python 3",
   "language": "python",
   "name": "python3"
  },
  "language_info": {
   "codemirror_mode": {
    "name": "ipython",
    "version": 3
   },
   "file_extension": ".py",
   "mimetype": "text/x-python",
   "name": "python",
   "nbconvert_exporter": "python",
   "pygments_lexer": "ipython3",
   "version": "3.8.2"
  }
 },
 "nbformat": 4,
 "nbformat_minor": 4
}
