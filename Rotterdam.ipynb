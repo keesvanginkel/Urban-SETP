{
 "cells": [
  {
   "cell_type": "markdown",
   "metadata": {},
   "source": [
    "# Rotterdam stylized case"
   ]
  },
  {
   "cell_type": "code",
   "execution_count": 1,
   "metadata": {},
   "outputs": [],
   "source": [
    "from classes import *\n",
    "import copy\n",
    "from collections import OrderedDict\n",
    "import csv\n",
    "from datetime import datetime\n",
    "import numpy as np\n",
    "import matplotlib.pyplot as plt\n",
    "from matplotlib.lines import Line2D\n",
    "import os\n",
    "#import ipywidgets as widgets\n",
    "import pickle\n",
    "\n",
    "import tqdm\n",
    "\n",
    "from pdb import set_trace\n",
    "\n",
    "from models import Rotty\n",
    "from mayors import *"
   ]
  },
  {
   "cell_type": "markdown",
   "metadata": {},
   "source": [
    "### Load the model with parameters"
   ]
  },
  {
   "cell_type": "code",
   "execution_count": 2,
   "metadata": {},
   "outputs": [
    {
     "data": {
      "text/plain": [
       "Rotty \n",
       "-----------\n",
       "allFloodProtection: \n",
       "No 3.5; Dike 4.5;  \n",
       "-----------\n",
       "allResidentialArea: \n",
       "Area_A Protected by:['No']\n",
       "Area_B Protected by:['Dike']\n",
       "\n",
       "Parameters : \n",
       "{'alarming_conditions': OrderedDict([(1, ['Major flood', 40]), (0, ['Small flood', 20]), (-0.2, ['Near miss', 10]), (-0.4, ['Major wake-up', 7]), (-1, ['Minor wake-up', 5]), (-10, ['Nothing happens', 0])]), 'Gumbel': OrderedDict([('mu', 2.33), ('beta', 0.234)]), 'I_experience_interp': {'xp': [0, 0.5], 'fp': [0, 1]}, 'I_social': 1}"
      ]
     },
     "execution_count": 2,
     "metadata": {},
     "output_type": "execute_result"
    }
   ],
   "source": [
    "#global pars (for the development of Trust) Will be removed \n",
    "k = 0.2 \n",
    "T_eq = 70\n",
    "Rotty"
   ]
  },
  {
   "cell_type": "markdown",
   "metadata": {},
   "source": [
    "### Load storm surge scenarios"
   ]
  },
  {
   "cell_type": "code",
   "execution_count": 3,
   "metadata": {},
   "outputs": [
    {
     "name": "stdout",
     "output_type": "stream",
     "text": [
      "Scenario_01 ||| Scenario_02 ||| Scenario_03 ||| Scenario_04 ||| Scenario_05 ||| Scenario_06 ||| Scenario_07 ||| Scenario_08 ||| Scenario_09 ||| "
     ]
    }
   ],
   "source": [
    "# Load all SLR_Scenario\n",
    "allSLR_Scenario = SLR_Scenario_from_pickles(os.path.join(\"SLR_projections\",\"Transients\"))\n",
    "\n",
    "#for filename in os.listdir(\"SLR_projections\"):\n",
    "#    if filename.endswith(\".csv\"):\n",
    "#        obj = SLR_Scenario(filename.split('.')[0]) #Init object with name derived from filename\n",
    "#        obj.from_csv(os.path.join('SLR_projections',filename)) #Fill the object with data from the csv file\n",
    "\n",
    "\n",
    "# Load all SurgeHeight (Realisations of extreme value distribution)\n",
    "for filename in os.listdir(\"SurgeHeight\"):\n",
    "    if filename.endswith(\".csv\"):\n",
    "        obj = SurgeHeight(filename.split('.')[0]) #Init object with name derived from filename\n",
    "        obj.from_csv(os.path.join('SurgeHeight',filename)) #Fill the object with data from the csv file\n",
    "\n",
    "# Create SurgeLevels by summing combinations of SLR_Scenario and SurgeHeights\n",
    "for SLR_Scenario in allSLR_Scenario:\n",
    "    for SurgeHeight in allSurgeHeight:\n",
    "        combine_SurgeLevel(SLR_Scenario,SurgeHeight)\n",
    "        \n",
    "# Print all available SLR scenarios\n",
    "for SLR_Scenario in allSLR_Scenario:\n",
    "    print(SLR_Scenario.name,end=' ||| ')"
   ]
  },
  {
   "cell_type": "markdown",
   "metadata": {},
   "source": [
    "### Run this block if you want to focus on a subset of the scenarios"
   ]
  },
  {
   "cell_type": "code",
   "execution_count": 4,
   "metadata": {},
   "outputs": [
    {
     "data": {
      "text/plain": [
       "[Scenario_01__2, Scenario_03__2, Scenario_05__2, Scenario_09__2]"
      ]
     },
     "execution_count": 4,
     "metadata": {},
     "output_type": "execute_result"
    }
   ],
   "source": [
    "# Make a manual preselection of scenarios to simplify plots\n",
    "transient = \"2\"\n",
    "selection = [x for x in allSurgeLevel if x.name.split(\"__\")[1] == transient] #only run experiments for one of the transients\n",
    "selected_scens = ['01','03','05','09']\n",
    "#selection = [x for x in selection if x.name.split('__')[0] in ['SROCC_2019_RCP26_17','SROCC_2019_RCP85_50','SROCC_2019_RCP85_83','Bamber_2019_high_95']]\n",
    "selection =  [x for x in selection if x.name.split('__')[0].split('_')[1] in selected_scens]\n",
    "selection"
   ]
  },
  {
   "cell_type": "markdown",
   "metadata": {},
   "source": [
    "### Load adaptation strategies (Mayors)"
   ]
  },
  {
   "cell_type": "code",
   "execution_count": 5,
   "metadata": {},
   "outputs": [],
   "source": [
    "allMayors = [Reactive(),Economicus(),Sentiment(),Lawkeeper()]"
   ]
  },
  {
   "cell_type": "markdown",
   "metadata": {},
   "source": [
    "### Model run algorithm"
   ]
  },
  {
   "cell_type": "code",
   "execution_count": 6,
   "metadata": {},
   "outputs": [],
   "source": [
    "from run_model import run_model01"
   ]
  },
  {
   "cell_type": "markdown",
   "metadata": {},
   "source": [
    "### Run the behaviour of one Mayor"
   ]
  },
  {
   "cell_type": "code",
   "execution_count": 3,
   "metadata": {},
   "outputs": [
    {
     "ename": "NameError",
     "evalue": "name 'selection' is not defined",
     "output_type": "error",
     "traceback": [
      "\u001b[1;31m---------------------------------------------------------------------------\u001b[0m",
      "\u001b[1;31mNameError\u001b[0m                                 Traceback (most recent call last)",
      "\u001b[1;32m<ipython-input-3-1e7b7a852cb6>\u001b[0m in \u001b[0;36m<module>\u001b[1;34m\u001b[0m\n\u001b[0;32m      1\u001b[0m \u001b[1;31m#run one mayor:\u001b[0m\u001b[1;33m\u001b[0m\u001b[1;33m\u001b[0m\u001b[1;33m\u001b[0m\u001b[0m\n\u001b[0;32m      2\u001b[0m \u001b[0mmayor_experiments\u001b[0m \u001b[1;33m=\u001b[0m \u001b[1;33m[\u001b[0m\u001b[1;33m]\u001b[0m\u001b[1;33m\u001b[0m\u001b[1;33m\u001b[0m\u001b[0m\n\u001b[1;32m----> 3\u001b[1;33m \u001b[1;32mfor\u001b[0m \u001b[0mSurgeLevel\u001b[0m \u001b[1;32min\u001b[0m \u001b[0mselection\u001b[0m\u001b[1;33m:\u001b[0m\u001b[1;33m\u001b[0m\u001b[1;33m\u001b[0m\u001b[0m\n\u001b[0m\u001b[0;32m      4\u001b[0m     \u001b[0mexperiment\u001b[0m \u001b[1;33m=\u001b[0m \u001b[0mrun_model01\u001b[0m\u001b[1;33m(\u001b[0m\u001b[0mRotty\u001b[0m\u001b[1;33m,\u001b[0m\u001b[0mSurgeLevel\u001b[0m\u001b[1;33m,\u001b[0m\u001b[0mEconomicus\u001b[0m\u001b[1;33m(\u001b[0m\u001b[1;33m)\u001b[0m\u001b[1;33m,\u001b[0m\u001b[0mdo_print\u001b[0m\u001b[1;33m=\u001b[0m\u001b[1;32mTrue\u001b[0m\u001b[1;33m)\u001b[0m\u001b[1;33m\u001b[0m\u001b[1;33m\u001b[0m\u001b[0m\n\u001b[0;32m      5\u001b[0m     \u001b[0mmayor_experiments\u001b[0m\u001b[1;33m.\u001b[0m\u001b[0mappend\u001b[0m\u001b[1;33m(\u001b[0m\u001b[0mexperiment\u001b[0m\u001b[1;33m)\u001b[0m\u001b[1;33m\u001b[0m\u001b[1;33m\u001b[0m\u001b[0m\n",
      "\u001b[1;31mNameError\u001b[0m: name 'selection' is not defined"
     ]
    }
   ],
   "source": [
    "#run one mayor:\n",
    "mayor_experiments = []\n",
    "for SurgeLevel in selection:\n",
    "    experiment = run_model01(Rotty,SurgeLevel,Economicus(),do_print=True)\n",
    "    mayor_experiments.append(experiment)\n",
    "print('experiments finished')"
   ]
  },
  {
   "cell_type": "markdown",
   "metadata": {},
   "source": [
    "### Plot the results"
   ]
  },
  {
   "cell_type": "code",
   "execution_count": 2,
   "metadata": {},
   "outputs": [
    {
     "ename": "NameError",
     "evalue": "name 'mayor_experiments' is not defined",
     "output_type": "error",
     "traceback": [
      "\u001b[1;31m---------------------------------------------------------------------------\u001b[0m",
      "\u001b[1;31mNameError\u001b[0m                                 Traceback (most recent call last)",
      "\u001b[1;32m<ipython-input-2-67a2b51f23d0>\u001b[0m in \u001b[0;36m<module>\u001b[1;34m\u001b[0m\n\u001b[0;32m     16\u001b[0m \u001b[0mxlim\u001b[0m \u001b[1;33m=\u001b[0m \u001b[1;33m(\u001b[0m\u001b[1;36m2020\u001b[0m\u001b[1;33m,\u001b[0m\u001b[1;36m2200\u001b[0m\u001b[1;33m)\u001b[0m\u001b[1;33m\u001b[0m\u001b[1;33m\u001b[0m\u001b[0m\n\u001b[0;32m     17\u001b[0m \u001b[1;33m\u001b[0m\u001b[0m\n\u001b[1;32m---> 18\u001b[1;33m \u001b[1;32mfor\u001b[0m \u001b[0mj\u001b[0m\u001b[1;33m,\u001b[0m\u001b[0mexperiment\u001b[0m \u001b[1;32min\u001b[0m \u001b[0menumerate\u001b[0m\u001b[1;33m(\u001b[0m\u001b[0mreversed\u001b[0m\u001b[1;33m(\u001b[0m\u001b[0mmayor_experiments\u001b[0m\u001b[1;33m)\u001b[0m\u001b[1;33m)\u001b[0m\u001b[1;33m:\u001b[0m\u001b[1;33m\u001b[0m\u001b[1;33m\u001b[0m\u001b[0m\n\u001b[0m\u001b[0;32m     19\u001b[0m \u001b[1;33m\u001b[0m\u001b[0m\n\u001b[0;32m     20\u001b[0m     \u001b[0mModel\u001b[0m \u001b[1;33m=\u001b[0m \u001b[0mexperiment\u001b[0m\u001b[1;33m.\u001b[0m\u001b[0mModel\u001b[0m\u001b[1;33m\u001b[0m\u001b[1;33m\u001b[0m\u001b[0m\n",
      "\u001b[1;31mNameError\u001b[0m: name 'mayor_experiments' is not defined"
     ]
    },
    {
     "data": {
      "image/png": "[encoded data removed]",
      "text/plain": [
       "<Figure size 1008x1440 with 12 Axes>"
      ]
     },
     "metadata": {
      "needs_background": "light"
     },
     "output_type": "display_data"
    }
   ],
   "source": [
    "p1 = ['#e66101','#fdb863','#b2abd2','#5e3c99'] #palette\n",
    "p2 = ['#d7191c','#fdae61','#abd9e9','#2c7bb6']\n",
    "p3 = ['#d7191c','#fdae61','#abdda4','#2b83ba']\n",
    "p = p3\n",
    "p.reverse()\n",
    "\n",
    "nrows=6\n",
    "ncols=2\n",
    "\n",
    "fig, axes = plt.subplots(nrows=nrows,ncols=ncols,sharey=False,sharex=True,figsize=(14,20))\n",
    "\n",
    "labels = []\n",
    "\n",
    "xlim = (2020,2200)\n",
    "\n",
    "for j,experiment in enumerate(reversed(mayor_experiments)):\n",
    "    \n",
    "    Model = experiment.Model\n",
    "    SurgeLevel = experiment.SurgeLevel\n",
    "    Mayor = experiment.Mayor\n",
    "    \n",
    "    time = SurgeLevel.years\n",
    "    \n",
    "    axes[0,0].plot(time,SurgeLevel.surgelevel,color=p[j])\n",
    "\n",
    "    labels.append(SurgeLevel.name)\n",
    "    axes[0,0].set_title('Expected storm surge levels + SLR')\n",
    "    #axes[0,0].set_xlabel('Time [year]')\n",
    "    axes[0,0].set_ylabel('Storm surge level [m]')\n",
    "    axes[0,0].set_ylim(0,12)\n",
    "    axes[0,1].set_ylim(0,12)\n",
    "    axes[0,1].set_ylabel('Dike height [m]')\n",
    "    \n",
    "    axes[0,0].set_xlim(xlim[0],xlim[1])\n",
    "    \n",
    "    axes[0,1].plot(time,Model.allFloodProtection[1].measure_history,'x',color=p[j]) #PLOT THE HISTORY OF THE MEASURES\n",
    "\n",
    "    for i, Area in enumerate(Model.allResidentialArea):\n",
    "        axes[0,i].tick_params(axis='x',reset=True) # to repeat the x-labels along the axes\n",
    "       \n",
    "           \n",
    "        #plot damage\n",
    "        axes[1,i].set_title('Damage {}'.format(Area.name))\n",
    "        axes[1,i].plot(time,[x*10**(-6) for x in Model.allResidentialArea[i].flood_damage],'o',color=p[j])\n",
    "        axes[1,i].set_ylabel('Damage [10^6 \\u20ac/y]')\n",
    "        #axes[1,i].tick_params(axis='x',reset=True) # to repeat the x-labels along the axes\n",
    "    \n",
    "        axes[2,i].set_title('Flood protection of area {}'.format(Model.allResidentialArea[i].name))\n",
    "        axes[2,i].plot(time,Model.allResidentialArea[i].protection_level_rp,'-',color=p[j])\n",
    "        axes[2,i].set_yscale(\"log\")\n",
    "        axes[2,i].set_ylabel('Return period [year]')\n",
    "        #axes[2,i].tick_params(axis='x',reset=True) # to repeat the x-labels along the axes\n",
    "    \n",
    "        axes[3,i].set_title('Risk perception coefficient {}'.format(Model.allResidentialArea[i].name))\n",
    "        axes[3,i].plot(time,Model.allResidentialArea[i].risk_perception,'-',color=p[j])\n",
    "        axes[3,i].set_ylabel('[-]')\n",
    "        axes[3,i].set_ylim(0,1)\n",
    "\n",
    "        #axes[3,i].tick_params(axis='x',reset=True) # to repeat the x-labels along the axes\n",
    "        \n",
    "        axes[4,i].set_title('Objective and perceived flood risk area {}'.format(Model.allResidentialArea[i].name))\n",
    "        unit_corr = [x * 10**6 for x in Model.allResidentialArea[i].risk]\n",
    "        axes[4,i].plot(time,unit_corr,'-',color=p[j])\n",
    "        axes[4,i].set_yscale(\"log\")\n",
    "        axes[4,i].set_ylabel('Expected annual damage [\\u20ac/y]')\n",
    "        #axes[4,i].tick_params(axis='x',reset=True) # to repeat the x-labels along the axes\n",
    "        #Manually add legend patches\n",
    "        custom_lines = [Line2D([0], [0], color='black',label='Objective flood risk',linestyle='-'),\n",
    "                        Line2D([0], [0], color='black',label='Perceived flood risk',linestyle='--')]\n",
    "        axes[4,i].legend(handles=custom_lines)\n",
    "        \n",
    "        unit_corr2 = [x * 10**6 for x in Model.allResidentialArea[i].risk_perceived]\n",
    "        axes[4,i].plot(time,unit_corr2,'--',color=p[j])\n",
    "        \n",
    "        axes[5,i].set_title('House prices in residential area')\n",
    "        axes[5,i].plot(time,Area.house_price_t_objective,color=p[j])\n",
    "        custom_lines = [Line2D([0], [0], color='black',label='Rational house market',linestyle='-'),\n",
    "                        Line2D([0], [0], color='black',label='Bounded rational house market',linestyle='--')]\n",
    "        axes[5,i].legend(handles=custom_lines)\n",
    "        axes[5,i].set_ylim(0,4e5)\n",
    "        \n",
    "        \n",
    "        \n",
    "        axes[5,i].plot(time,Area.house_price_t_subjective,'--',color=p[j])\n",
    "        \n",
    "        #axes[6,i].set_title('Development of trust in {} [DEPRECIATED]'.format(Area.name))\n",
    "        #axes[6,i].plot(time,Model.allResidentialArea[i].trust_t,color=p[j])\n",
    "        #axes[6,i].set_ylim(0,100)\n",
    "    \n",
    "    axes[0,1].plot(time,Model.allFloodProtection[1].protection_level,color=p[j])\n",
    "    axes[0,1].set_title('Development of flood protection object Dike')\n",
    "    \n",
    "       \n",
    "    #PLOT THE WAKE-UP CALL SIGNALS\n",
    "    axes[1,0].set_ylim(-20,80)\n",
    "    HP = Model.allResidentialArea[0]\n",
    "    for i,year in enumerate(time[0:xlim[1]-xlim[0]]):\n",
    "        text = HP.event_history[i]\n",
    "        if text == \"!\":\n",
    "            axes[1,0].text(year,-18 + 7 * j,text,color=p[j],fontsize=8)\n",
    "            \n",
    "    #PLOT THE WAKE-UP CALL SIGNALS\n",
    "    axes[1,1].set_ylim(0,5000)\n",
    "    CC = Model.allResidentialArea[1]\n",
    "    for i,year in enumerate(time[0:xlim[1]-xlim[0]]):\n",
    "        text = CC.event_history[i]\n",
    "        if text == \"!\":\n",
    "            axes[1,1].text(year,0 + 500 * j,text,color=p[j],fontsize=8)\n",
    "\n",
    "axes[0,0].legend(labels)\n",
    "\n",
    "axes[0,1].text(0.05,0.2,\"Crosses indicate when the (initial) decision was taken \\n - Decisions may be overruled by a more transformative measure.\",transform=axes[0,1].transAxes)\n",
    "\n",
    "\n",
    "#PRINT THE THRESHOLD PROTECTION LEVELS FOR THE LAWKEEPER MAYOR\n",
    "if Mayor.get_name() == 'Lawkeeper':\n",
    "    axes[2,1].plot(time,[Mayor.threshold_small]*len(time),color='black',linestyle='--',alpha=0.5)\n",
    "    axes[2,1].plot(time,[Mayor.threshold_large]*len(time),color='black',linestyle='--',alpha=0.5)\n",
    "    axes[2,1].text(2030,Mayor.threshold_small - 4000,'Threshold small measure',color='black',alpha=1)\n",
    "    axes[2,1].text(2030,Mayor.threshold_large - 800,'Threshold large measure',color='black',alpha=1)\n",
    "    \n",
    "for j in [0,1]:\n",
    "    alpha = 0.5\n",
    "    color = 'black'\n",
    "    axes[3,j].plot(time,[0.5]*len(time),color=color,linestyle='--',alpha = alpha)    \n",
    "    #Manually add legend patches\n",
    "    custom_line = [Line2D([0], [0], color=color, alpha=alpha,label='Perceived risk equals objective risk',linestyle='--')]\n",
    "    axes[3,j].legend(handles=custom_line)\n",
    "    axes[3,j].text(0.5,0.3,'underestimation',color=color,alpha=alpha,transform=axes[3,j].transAxes,ha='center')\n",
    "    axes[3,j].text(0.5,0.7,'overestimation',color=color,alpha=alpha,transform=axes[3,j].transAxes,ha='center')\n",
    "\n",
    "\n",
    "for nr in range(0,nrows):\n",
    "    for l,letter in enumerate(('A','B')):\n",
    "        axes[nr,l].text(-0.15, 1.1, \"{}{}.\".format(nr+1,letter), transform=axes[nr,l].transAxes,\n",
    "                       fontsize=13, fontweight='bold', va='top')\n",
    "    \n",
    "#################################################################    \n",
    "#################### SAVE THE EXPERIMENT ########################\n",
    "#################################################################\n",
    "\n",
    "\n",
    "filename = experiment.Mayor.get_name() + \"_trans_\" + experiment.SurgeLevel.name.split(\"__\")[1]\n",
    "\n",
    "#CREATE SUBFOLDER IN VISUALISATION WITH CURRENT DATE\n",
    "today = datetime.date(datetime.now())\n",
    "date = \"{}_{}_{}\".format(today.year,today.month,today.day)\n",
    "foldername = date\n",
    "target = os.path.join('Visualisations',foldername)\n",
    "if not os.path.exists(target):\n",
    "    os.mkdir(target)\n",
    "else:\n",
    "    print(\"Target folder {} already exists\".format(target))\n",
    "    \n",
    "#fig.savefig(os.path.join(target,filename + \"_new.png\"),bbox_inches='tight',dpi=150)"
   ]
  },
  {
   "cell_type": "code",
   "execution_count": 28,
   "metadata": {},
   "outputs": [
    {
     "data": {
      "text/plain": [
       "280"
      ]
     },
     "execution_count": 28,
     "metadata": {},
     "output_type": "execute_result"
    }
   ],
   "source": [
    "experiment = mayor_experiments[0]\n",
    "years = experiment.SurgeLevel.years\n",
    "Area_B = experiment.Model.allResidentialArea[1]\n",
    "len(Area_B.flood_history)"
   ]
  },
  {
   "cell_type": "code",
   "execution_count": 49,
   "metadata": {},
   "outputs": [],
   "source": [
    "def year_to_index(year,years = experiment.SurgeLevel.years):\n",
    "    \"\"\"\n",
    "    Give a year, returns the index of this year\n",
    "    \"\"\"\n",
    "    return years.index(year)\n",
    "i = year_to_index(2101)"
   ]
  },
  {
   "cell_type": "markdown",
   "metadata": {},
   "source": [
    "# Run all Mayors"
   ]
  },
  {
   "cell_type": "code",
   "execution_count": 54,
   "metadata": {},
   "outputs": [],
   "source": [
    "from tqdm.notebook import trange, tqdm"
   ]
  },
  {
   "cell_type": "code",
   "execution_count": null,
   "metadata": {},
   "outputs": [],
   "source": [
    "#run all Majors\n",
    "allExperiments = []\n",
    "with tqdm(total =len(allSurgeLevel)*len(allMayors)) as pbar:\n",
    "    for SurgeLevel in allSurgeLevel:\n",
    "        #print(\"\\n \\n {} \\n\\n------------- \\n\\n\".format(SurgeLevel.name))\n",
    "        for Mayor in allMayors:\n",
    "            experiment = run_model01(Rotty,SurgeLevel,Mayor,do_print=False)\n",
    "            allExperiments.append(experiment)\n",
    "            pbar.update(1)\n",
    "print('experiments finished')"
   ]
  },
  {
   "cell_type": "markdown",
   "metadata": {},
   "source": [
    "### Save EXPERIMENTS as pickle"
   ]
  },
  {
   "cell_type": "code",
   "execution_count": 21,
   "metadata": {},
   "outputs": [],
   "source": [
    "experiments=allExperiments\n",
    "\n",
    "foldername = \"temp\"\n",
    "subfolder = \"experiments\"\n",
    "target = os.path.join(foldername,subfolder)\n",
    "\n",
    "today = datetime.date(datetime.now())\n",
    "date = \"{}_{}_{}\".format(today.year,today.month,today.day)\n",
    "\n",
    "if not os.path.exists(foldername):\n",
    "    os.mkdir(foldername)\n",
    "    if not os.path.exists(target):\n",
    "        os.mkdir(target)\n",
    "\n",
    "pickle.dump(experiments, open( os.path.join(target,\"experiment_\" + date +  \".p\"), \"wb\") ) "
   ]
  }
 ],
 "metadata": {
  "kernelspec": {
   "display_name": "Python 3",
   "language": "python",
   "name": "python3"
  },
  "language_info": {
   "codemirror_mode": {
    "name": "ipython",
    "version": 3
   },
   "file_extension": ".py",
   "mimetype": "text/x-python",
   "name": "python",
   "nbconvert_exporter": "python",
   "pygments_lexer": "ipython3",
   "version": "3.8.2"
  }
 },
 "nbformat": 4,
 "nbformat_minor": 4
}
