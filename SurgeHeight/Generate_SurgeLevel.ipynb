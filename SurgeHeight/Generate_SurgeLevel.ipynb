{
 "cells": [
  {
   "cell_type": "code",
   "execution_count": 3,
   "metadata": {},
   "outputs": [],
   "source": [
    "from classes import *\n",
    "import os\n",
    "\n",
    "def generate_SurgeLevel(RCP,collapse,PDF,transient):\n",
    "    \"\"\"\n",
    "    Generate a SurgeLevel timeseries (=SLR + SurgeHeight)\n",
    "    \n",
    "    Arguments:\n",
    "        *RCP* (string) : Representative Concentration Pathway e.g. 'RCP26'\n",
    "        *collapse* (boolean) : Account for collapse of icesheets (i.e. use Bamber)\n",
    "        *PDF* (int) : Percentage indicating the likelihood from the probability density function (e.g. 17)\n",
    "        *transient* (int) : Integer indicating which transient scenario to use\n",
    "        \n",
    "    Returns:\n",
    "        *SurgeLevel* (SurgeLevel object) : has time, surgelevel per time and some metadata\n",
    "    \"\"\"\n",
    "    if collapse: \n",
    "        SLR_source = \"Bamber_2019\"\n",
    "        RCP = \"high\" #this is weird, but works for now\n",
    "    else:\n",
    "        SLR_source = \"SROCC_2019\" \n",
    "    \n",
    "    #READ THE SLR INFO\n",
    "    SLR_folder = \"SLR_projections\" ###TODO CHANGE WITH CONFIG\n",
    "    SLR_name = \"{}_{}_{}\".format(SLR_source,RCP,PDF)\n",
    "    SLR_path = os.path.join(SLR_folder,SLR_name+'.csv')\n",
    "    \n",
    "    if not os.path.exists(SLR_path):\n",
    "        print(\"SLR path : {} does NOT EXIST\".format(SLR_path)) #throw an error!\n",
    "        return None\n",
    "    \n",
    "    SLR_obj = SLR_Scenario(SLR_name) #Create instance of object\n",
    "    SLR_obj.from_csv(SLR_path)\n",
    "    \n",
    "    #READ THE TRANSIENT SCENARIO\n",
    "    SH_folder = \"SurgeHeight\" ###TODO READ FROM CONFIG\n",
    "    SH_name = str(transient)\n",
    "    SH_path = os.path.join(SH_folder,SH_name+'.csv')\n",
    "    \n",
    "    if not os.path.exists(SH_path):\n",
    "        print(\"SH path : {} does NOT EXIST\".format(SH_path)) #throw an error!\n",
    "        return None\n",
    "    \n",
    "    SH_obj = SurgeHeight(SH_path)\n",
    "    SH_obj.from_csv(SH_path)\n",
    "    \n",
    "    SurgeLevel = combine_SurgeLevel(SLR_obj,SH_obj)\n",
    "\n",
    "    return SurgeLevel\n",
    "    "
   ]
  },
  {
   "cell_type": "code",
   "execution_count": 5,
   "metadata": {},
   "outputs": [],
   "source": [
    "a = generate_SurgeLevel('RCP26',False,17,0)"
   ]
  },
  {
   "cell_type": "code",
   "execution_count": null,
   "metadata": {},
   "outputs": [],
   "source": [
    "a.__dict__"
   ]
  },
  {
   "cell_type": "code",
   "execution_count": null,
   "metadata": {},
   "outputs": [],
   "source": []
  }
 ],
 "metadata": {
  "kernelspec": {
   "display_name": "Python 3",
   "language": "python",
   "name": "python3"
  },
  "language_info": {
   "codemirror_mode": {
    "name": "ipython",
    "version": 3
   },
   "file_extension": ".py",
   "mimetype": "text/x-python",
   "name": "python",
   "nbconvert_exporter": "python",
   "pygments_lexer": "ipython3",
   "version": "3.8.2"
  }
 },
 "nbformat": 4,
 "nbformat_minor": 4
}
