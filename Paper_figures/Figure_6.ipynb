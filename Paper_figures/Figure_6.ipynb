{
 "cells": [
  {
   "cell_type": "code",
   "execution_count": 1,
   "metadata": {},
   "outputs": [],
   "source": [
    "import sys\n",
    "sys.path.append(\"..\") #import folder which is one level higher"
   ]
  },
  {
   "cell_type": "code",
   "execution_count": 2,
   "metadata": {},
   "outputs": [
    {
     "name": "stderr",
     "output_type": "stream",
     "text": [
      "C:\\Users\\Ginkel\\AppData\\Local\\Continuum\\anaconda3\\envs\\urban-SETP\\lib\\site-packages\\ema_workbench\\em_framework\\evaluators.py:21: UserWarning: ipyparallel not installed - IpyparalleEvaluator not available\n",
      "  warnings.warn(\n",
      "C:\\Users\\Ginkel\\AppData\\Local\\Continuum\\anaconda3\\envs\\urban-SETP\\lib\\site-packages\\ema_workbench\\em_framework\\optimization.py:48: ImportWarning: platypus based optimization not available\n",
      "  warnings.warn(\"platypus based optimization not available\", ImportWarning)\n",
      "C:\\Users\\Ginkel\\AppData\\Local\\Continuum\\anaconda3\\envs\\urban-SETP\\lib\\site-packages\\ema_workbench\\analysis\\prim.py:30: ImportWarning: altair based interactive inspection not available\n",
      "  warnings.warn((\"altair based interactive \"\n"
     ]
    }
   ],
   "source": [
    "#Workbench imports\n",
    "import math\n",
    "import pandas as pd\n",
    "import seaborn as sns\n",
    "import matplotlib.pyplot as plt\n",
    "\n",
    "from scipy.optimize import brentq\n",
    "\n",
    "from workbench_version import * #load the model\n",
    "from pathlib import Path\n",
    "\n",
    "from ema_workbench.analysis import regional_sa\n",
    "from numpy.lib import recfunctions as rf\n",
    "\n",
    "from ema_workbench import ema_logging, perform_experiments, MultiprocessingEvaluator"
   ]
  },
  {
   "cell_type": "markdown",
   "metadata": {},
   "source": [
    "### Load results"
   ]
  },
  {
   "cell_type": "code",
   "execution_count": 3,
   "metadata": {},
   "outputs": [],
   "source": [
    "from ema_workbench import load_results\n",
    "\n",
    "target = Path(\"..\",\"temp\",\"experiments\")\n",
    "#experiments, outcomes = load_results(target / \"2020_10_23_EMA_experiments_five_hundred.tar.gz\")\n",
    "experiments, outcomes = load_results(target / \"2021_2_23_EMA_experiments_five_hundred.tar.gz\")"
   ]
  },
  {
   "cell_type": "code",
   "execution_count": 4,
   "metadata": {},
   "outputs": [
    {
     "data": {
      "text/html": [
       "<div>\n",
       "<style scoped>\n",
       "    .dataframe tbody tr th:only-of-type {\n",
       "        vertical-align: middle;\n",
       "    }\n",
       "\n",
       "    .dataframe tbody tr th {\n",
       "        vertical-align: top;\n",
       "    }\n",
       "\n",
       "    .dataframe thead th {\n",
       "        text-align: right;\n",
       "    }\n",
       "</style>\n",
       "<table border=\"1\" class=\"dataframe\">\n",
       "  <thead>\n",
       "    <tr style=\"text-align: right;\">\n",
       "      <th></th>\n",
       "      <th>Housing_market</th>\n",
       "      <th>SLR</th>\n",
       "      <th>implementation_time</th>\n",
       "      <th>transient</th>\n",
       "      <th>Mayor</th>\n",
       "      <th>scenario</th>\n",
       "      <th>policy</th>\n",
       "      <th>model</th>\n",
       "    </tr>\n",
       "  </thead>\n",
       "  <tbody>\n",
       "    <tr>\n",
       "      <th>395995</th>\n",
       "      <td>rational</td>\n",
       "      <td>1</td>\n",
       "      <td>4</td>\n",
       "      <td>SurgeHeight\\five_hundred\\five_hundred_430.csv</td>\n",
       "      <td>Lawkeeper</td>\n",
       "      <td>98995</td>\n",
       "      <td>3</td>\n",
       "      <td>Rotty</td>\n",
       "    </tr>\n",
       "    <tr>\n",
       "      <th>395996</th>\n",
       "      <td>rational</td>\n",
       "      <td>3</td>\n",
       "      <td>13</td>\n",
       "      <td>SurgeHeight\\five_hundred\\five_hundred_453.csv</td>\n",
       "      <td>Lawkeeper</td>\n",
       "      <td>98996</td>\n",
       "      <td>3</td>\n",
       "      <td>Rotty</td>\n",
       "    </tr>\n",
       "    <tr>\n",
       "      <th>395997</th>\n",
       "      <td>boundedly_rational</td>\n",
       "      <td>3</td>\n",
       "      <td>10</td>\n",
       "      <td>SurgeHeight\\five_hundred\\five_hundred_157.csv</td>\n",
       "      <td>Lawkeeper</td>\n",
       "      <td>98997</td>\n",
       "      <td>3</td>\n",
       "      <td>Rotty</td>\n",
       "    </tr>\n",
       "    <tr>\n",
       "      <th>395998</th>\n",
       "      <td>boundedly_rational</td>\n",
       "      <td>5</td>\n",
       "      <td>11</td>\n",
       "      <td>SurgeHeight\\five_hundred\\five_hundred_32.csv</td>\n",
       "      <td>Lawkeeper</td>\n",
       "      <td>98998</td>\n",
       "      <td>3</td>\n",
       "      <td>Rotty</td>\n",
       "    </tr>\n",
       "    <tr>\n",
       "      <th>395999</th>\n",
       "      <td>rational</td>\n",
       "      <td>6</td>\n",
       "      <td>4</td>\n",
       "      <td>SurgeHeight\\five_hundred\\five_hundred_308.csv</td>\n",
       "      <td>Lawkeeper</td>\n",
       "      <td>98999</td>\n",
       "      <td>3</td>\n",
       "      <td>Rotty</td>\n",
       "    </tr>\n",
       "  </tbody>\n",
       "</table>\n",
       "</div>"
      ],
      "text/plain": [
       "            Housing_market SLR implementation_time  \\\n",
       "395995            rational   1                   4   \n",
       "395996            rational   3                  13   \n",
       "395997  boundedly_rational   3                  10   \n",
       "395998  boundedly_rational   5                  11   \n",
       "395999            rational   6                   4   \n",
       "\n",
       "                                            transient      Mayor scenario  \\\n",
       "395995  SurgeHeight\\five_hundred\\five_hundred_430.csv  Lawkeeper    98995   \n",
       "395996  SurgeHeight\\five_hundred\\five_hundred_453.csv  Lawkeeper    98996   \n",
       "395997  SurgeHeight\\five_hundred\\five_hundred_157.csv  Lawkeeper    98997   \n",
       "395998   SurgeHeight\\five_hundred\\five_hundred_32.csv  Lawkeeper    98998   \n",
       "395999  SurgeHeight\\five_hundred\\five_hundred_308.csv  Lawkeeper    98999   \n",
       "\n",
       "       policy  model  \n",
       "395995      3  Rotty  \n",
       "395996      3  Rotty  \n",
       "395997      3  Rotty  \n",
       "395998      3  Rotty  \n",
       "395999      3  Rotty  "
      ]
     },
     "execution_count": 4,
     "metadata": {},
     "output_type": "execute_result"
    }
   ],
   "source": [
    "experiments.tail()"
   ]
  },
  {
   "cell_type": "code",
   "execution_count": 5,
   "metadata": {},
   "outputs": [
    {
     "data": {
      "text/html": [
       "<div>\n",
       "<style scoped>\n",
       "    .dataframe tbody tr th:only-of-type {\n",
       "        vertical-align: middle;\n",
       "    }\n",
       "\n",
       "    .dataframe tbody tr th {\n",
       "        vertical-align: top;\n",
       "    }\n",
       "\n",
       "    .dataframe thead th {\n",
       "        text-align: right;\n",
       "    }\n",
       "</style>\n",
       "<table border=\"1\" class=\"dataframe\">\n",
       "  <thead>\n",
       "    <tr style=\"text-align: right;\">\n",
       "      <th></th>\n",
       "      <th>Housing_market</th>\n",
       "      <th>SLR</th>\n",
       "      <th>implementation_time</th>\n",
       "      <th>transient</th>\n",
       "      <th>Mayor</th>\n",
       "      <th>scenario</th>\n",
       "    </tr>\n",
       "  </thead>\n",
       "  <tbody>\n",
       "    <tr>\n",
       "      <th>0</th>\n",
       "      <td>boundedly_rational</td>\n",
       "      <td>4</td>\n",
       "      <td>12</td>\n",
       "      <td>SurgeHeight\\five_hundred\\five_hundred_119.csv</td>\n",
       "      <td>R. Active</td>\n",
       "      <td>0</td>\n",
       "    </tr>\n",
       "    <tr>\n",
       "      <th>1</th>\n",
       "      <td>boundedly_rational</td>\n",
       "      <td>4</td>\n",
       "      <td>14</td>\n",
       "      <td>SurgeHeight\\five_hundred\\five_hundred_90.csv</td>\n",
       "      <td>R. Active</td>\n",
       "      <td>1</td>\n",
       "    </tr>\n",
       "    <tr>\n",
       "      <th>2</th>\n",
       "      <td>boundedly_rational</td>\n",
       "      <td>2</td>\n",
       "      <td>10</td>\n",
       "      <td>SurgeHeight\\five_hundred\\five_hundred_220.csv</td>\n",
       "      <td>R. Active</td>\n",
       "      <td>2</td>\n",
       "    </tr>\n",
       "    <tr>\n",
       "      <th>3</th>\n",
       "      <td>boundedly_rational</td>\n",
       "      <td>9</td>\n",
       "      <td>9</td>\n",
       "      <td>SurgeHeight\\five_hundred\\five_hundred_141.csv</td>\n",
       "      <td>R. Active</td>\n",
       "      <td>3</td>\n",
       "    </tr>\n",
       "    <tr>\n",
       "      <th>4</th>\n",
       "      <td>rational</td>\n",
       "      <td>5</td>\n",
       "      <td>13</td>\n",
       "      <td>SurgeHeight\\five_hundred\\five_hundred_7.csv</td>\n",
       "      <td>R. Active</td>\n",
       "      <td>4</td>\n",
       "    </tr>\n",
       "  </tbody>\n",
       "</table>\n",
       "</div>"
      ],
      "text/plain": [
       "       Housing_market SLR implementation_time  \\\n",
       "0  boundedly_rational   4                  12   \n",
       "1  boundedly_rational   4                  14   \n",
       "2  boundedly_rational   2                  10   \n",
       "3  boundedly_rational   9                   9   \n",
       "4            rational   5                  13   \n",
       "\n",
       "                                       transient      Mayor scenario  \n",
       "0  SurgeHeight\\five_hundred\\five_hundred_119.csv  R. Active        0  \n",
       "1   SurgeHeight\\five_hundred\\five_hundred_90.csv  R. Active        1  \n",
       "2  SurgeHeight\\five_hundred\\five_hundred_220.csv  R. Active        2  \n",
       "3  SurgeHeight\\five_hundred\\five_hundred_141.csv  R. Active        3  \n",
       "4    SurgeHeight\\five_hundred\\five_hundred_7.csv  R. Active        4  "
      ]
     },
     "execution_count": 5,
     "metadata": {},
     "output_type": "execute_result"
    }
   ],
   "source": [
    "experiments2 = experiments.drop(['policy','model'],axis=1)\n",
    "experiments2.head()"
   ]
  },
  {
   "cell_type": "code",
   "execution_count": 6,
   "metadata": {},
   "outputs": [
    {
     "data": {
      "text/plain": [
       "[12, 14, 10, 9, 13, 5, 11, 6, 4, 8, 7]"
      ]
     },
     "execution_count": 6,
     "metadata": {},
     "output_type": "execute_result"
    }
   ],
   "source": [
    "list(experiments2[\"implementation_time\"].unique())"
   ]
  },
  {
   "cell_type": "code",
   "execution_count": 7,
   "metadata": {},
   "outputs": [
    {
     "data": {
      "text/html": [
       "<div>\n",
       "<style scoped>\n",
       "    .dataframe tbody tr th:only-of-type {\n",
       "        vertical-align: middle;\n",
       "    }\n",
       "\n",
       "    .dataframe tbody tr th {\n",
       "        vertical-align: top;\n",
       "    }\n",
       "\n",
       "    .dataframe thead th {\n",
       "        text-align: right;\n",
       "    }\n",
       "</style>\n",
       "<table border=\"1\" class=\"dataframe\">\n",
       "  <thead>\n",
       "    <tr style=\"text-align: right;\">\n",
       "      <th></th>\n",
       "      <th>Housing market (R1)</th>\n",
       "      <th>SLR scenario (X1)</th>\n",
       "      <th>Implementation time (X3)</th>\n",
       "      <th>Transient storm surge (X2)</th>\n",
       "      <th>Management strategy (L1)</th>\n",
       "      <th>scenario</th>\n",
       "    </tr>\n",
       "  </thead>\n",
       "  <tbody>\n",
       "    <tr>\n",
       "      <th>0</th>\n",
       "      <td>0</td>\n",
       "      <td>4</td>\n",
       "      <td>12</td>\n",
       "      <td>119</td>\n",
       "      <td>0</td>\n",
       "      <td>0</td>\n",
       "    </tr>\n",
       "    <tr>\n",
       "      <th>1</th>\n",
       "      <td>0</td>\n",
       "      <td>4</td>\n",
       "      <td>14</td>\n",
       "      <td>90</td>\n",
       "      <td>0</td>\n",
       "      <td>1</td>\n",
       "    </tr>\n",
       "    <tr>\n",
       "      <th>2</th>\n",
       "      <td>0</td>\n",
       "      <td>2</td>\n",
       "      <td>10</td>\n",
       "      <td>220</td>\n",
       "      <td>0</td>\n",
       "      <td>2</td>\n",
       "    </tr>\n",
       "    <tr>\n",
       "      <th>3</th>\n",
       "      <td>0</td>\n",
       "      <td>9</td>\n",
       "      <td>9</td>\n",
       "      <td>141</td>\n",
       "      <td>0</td>\n",
       "      <td>3</td>\n",
       "    </tr>\n",
       "    <tr>\n",
       "      <th>4</th>\n",
       "      <td>1</td>\n",
       "      <td>5</td>\n",
       "      <td>13</td>\n",
       "      <td>7</td>\n",
       "      <td>0</td>\n",
       "      <td>4</td>\n",
       "    </tr>\n",
       "  </tbody>\n",
       "</table>\n",
       "</div>"
      ],
      "text/plain": [
       "  Housing market (R1) SLR scenario (X1)  Implementation time (X3)  \\\n",
       "0                   0                 4                        12   \n",
       "1                   0                 4                        14   \n",
       "2                   0                 2                        10   \n",
       "3                   0                 9                         9   \n",
       "4                   1                 5                        13   \n",
       "\n",
       "   Transient storm surge (X2) Management strategy (L1) scenario  \n",
       "0                         119                        0        0  \n",
       "1                          90                        0        1  \n",
       "2                         220                        0        2  \n",
       "3                         141                        0        3  \n",
       "4                           7                        0        4  "
      ]
     },
     "execution_count": 7,
     "metadata": {},
     "output_type": "execute_result"
    }
   ],
   "source": [
    "experiments3 = experiments2.copy()\n",
    "\n",
    "#The discretization function is slightly altered, if you now provide numbers as strings, the categories will\n",
    "#ordered in ascending order\n",
    "map_house_market = {'rational' : '1', \n",
    "             'boundedly_rational' :'0'}\n",
    "\n",
    "map_house_market_invert = {'1':'R', \n",
    "                           '0':'BR'}\n",
    "\n",
    "map_mayor = {'H. Economicus': '2',\n",
    "             'Sentiment' : '1',\n",
    "             'R. Active' : '0',\n",
    "             'Lawkeeper' : '3'}\n",
    "\n",
    "map_mayor_invert = { '2' : 'Economic',\n",
    "                    '1' : 'Sentiment',\n",
    "                    '0' : 'Reactive',\n",
    "                    '3' : 'Proactive'\n",
    "                    }\n",
    "\n",
    "\n",
    "rename_cols = {'Housing_market' : 'Housing market (R1)',\n",
    "               'SLR' : 'SLR scenario (X1)',\n",
    "               'implementation_time' : 'Implementation time (X3)',\n",
    "               'transient' : 'Transient storm surge (X2)',\n",
    "               'Mayor' : 'Management strategy (L1)'}\n",
    "\n",
    "experiments3['Housing_market'].replace(map_house_market,inplace=True)\n",
    "experiments3['Mayor'].replace(map_mayor,inplace=True)\n",
    "experiments3['transient'] = experiments3['transient'].apply(lambda s : int(s.split('_')[-1].split('.')[0]))\n",
    "cols_convert = ['transient', 'implementation_time']\n",
    "experiments3[cols_convert] = experiments3[cols_convert].astype('int')\n",
    "experiments3 = experiments3.rename(columns=rename_cols)\n",
    "experiments3.head()"
   ]
  },
  {
   "cell_type": "code",
   "execution_count": 8,
   "metadata": {},
   "outputs": [
    {
     "name": "stdout",
     "output_type": "stream",
     "text": [
      "<class 'pandas.core.frame.DataFrame'>\n",
      "RangeIndex: 396000 entries, 0 to 395999\n",
      "Data columns (total 6 columns):\n",
      " #   Column                      Non-Null Count   Dtype   \n",
      "---  ------                      --------------   -----   \n",
      " 0   Housing market (R1)         396000 non-null  object  \n",
      " 1   SLR scenario (X1)           396000 non-null  category\n",
      " 2   Implementation time (X3)    396000 non-null  int32   \n",
      " 3   Transient storm surge (X2)  396000 non-null  int32   \n",
      " 4   Management strategy (L1)    396000 non-null  object  \n",
      " 5   scenario                    396000 non-null  category\n",
      "dtypes: category(2), int32(2), object(2)\n",
      "memory usage: 14.2+ MB\n"
     ]
    }
   ],
   "source": [
    "experiments3.info()"
   ]
  },
  {
   "cell_type": "markdown",
   "metadata": {},
   "source": [
    "### Dimensional stacking: \n",
    "This is a more visual approach to scenario discovery, indicating which combinations of input factors (X) explain outcome metrics of interest (M).\n",
    "\n",
    "### What explains if SETPs in the City Centre occur before 2200?"
   ]
  },
  {
   "cell_type": "code",
   "execution_count": 9,
   "metadata": {},
   "outputs": [],
   "source": [
    "x = experiments3\n",
    "threshold_year = 2200\n",
    "y = outcomes['CC_first_SETP'] <threshold_year"
   ]
  },
  {
   "cell_type": "code",
   "execution_count": 10,
   "metadata": {},
   "outputs": [],
   "source": [
    "import ema_workbench.analysis.dimensional_stacking as ds \n",
    "import ema_workbench.analysis.feature_scoring as feature_scoring"
   ]
  },
  {
   "cell_type": "markdown",
   "metadata": {},
   "source": [
    "Change the colormap, inspired from:\n",
    "https://stackoverflow.com/questions/49367144/modify-matplotlib-colormap"
   ]
  },
  {
   "cell_type": "code",
   "execution_count": 11,
   "metadata": {},
   "outputs": [],
   "source": [
    "import numpy as np\n",
    "import matplotlib as mpl\n",
    "#say we have 1000 different values\n",
    "n_vals = 256\n",
    "\n",
    "#variant with black, and color grading from blue to yellow \n",
    "upper = mpl.cm.cividis(np.arange(n_vals))\n",
    "upper[0] = [0,0,0,1] #set the first rgb*alpha* to black\n",
    "\n",
    "#variant from green to red via yellow\n",
    "#upper = mpl.cm.YlOrRd(np.arange(n_vals))\n",
    "#upper[0] = [0,0,0,1] #set the first rgb*alpha* to black\n",
    "\n",
    "\n",
    "cmap = upper\n",
    "cmap = mpl.colors.ListedColormap(cmap, name='newmap', N=cmap.shape[0])"
   ]
  },
  {
   "cell_type": "code",
   "execution_count": 32,
   "metadata": {},
   "outputs": [
    {
     "data": {
      "image/png": "[encoded data removed]",
      "text/plain": [
       "<Figure size 792x792 with 4 Axes>"
      ]
     },
     "metadata": {},
     "output_type": "display_data"
    }
   ],
   "source": [
    "import seaborn as sns\n",
    "\n",
    "def discretize_new(data, nbins=3, with_labels=False):\n",
    "    ### Adapted version of the EMA-workbench\n",
    "    \n",
    "    ''' Discretize the data, using the number of bins specified.\n",
    "    Parameters\n",
    "    ----------\n",
    "    data : DataFrame\n",
    "    nbins : int, optional\n",
    "            the number of bins to use (default is 3)\n",
    "    with_labels : bool, optional\n",
    "    Returns\n",
    "    -------\n",
    "    discretized\n",
    "        the discretized data frame\n",
    "    note:: nbins is currently a constant for all float and integer columns.\n",
    "           Categorical data is not discretized. If the number of integers is\n",
    "           lower than the number of bins, the integer variable is also not\n",
    "           discretized.\n",
    "    '''\n",
    "    discretized = data.copy()\n",
    "\n",
    "    for i, entry in enumerate(data.dtypes):\n",
    "        column = data.columns[i]\n",
    "        column_data = data[column]\n",
    "        n = nbins\n",
    "\n",
    "\n",
    "        if entry.name == 'category':\n",
    "            n_unique = column_data.unique().shape[0]\n",
    "            n = n_unique\n",
    "            try:\n",
    "                column_data = column_data.astype('int')\n",
    "                indices = column_data\n",
    "            except:\n",
    "                print('Cannot convert column_data to integer for {}, will therefore rename categories'.format(column_data.name))\n",
    "                column_data = column_data.cat.rename_categories(\n",
    "                        [x for x in range(1, n + 1)])\n",
    "                indices = column_data\n",
    "            \n",
    "        else:\n",
    "            if issubclass(entry.type, np.integer):\n",
    "                n_unique = column_data.unique().shape[0]\n",
    "                if n_unique <= n:\n",
    "                    n = n_unique\n",
    "\n",
    "            if with_labels:\n",
    "                indices = pd.cut(column_data, n, precision=2,\n",
    "                                 retbins=True)[0]\n",
    "            else:\n",
    "                indices = pd.cut(column_data, n, retbins=False,\n",
    "                                 labels=False, precision=2)\n",
    "\n",
    "        discretized[column] = indices\n",
    "\n",
    "    return discretized\n",
    "\n",
    "def create_pivot_plot_new(x, y, nr_levels=3, labels=True, categories=True,\n",
    "                      nbins=3, bin_labels=True,cmap='cividis'):\n",
    "    #This is a slightly adapted version of the convenience function in the EMA-workbench\n",
    "    \n",
    "    \n",
    "    x = ds._prepare_experiments(x)\n",
    "    scores = feature_scoring.get_ex_feature_scores(x, y)[0]\n",
    "    x = x[scores.index]\n",
    "\n",
    "    n = nr_levels * 2\n",
    "    scores = scores.index.tolist()\n",
    "\n",
    "    #MANUALLY OVERRULLED THESE TO CONTROL LAY-OUT OF FIGURE\n",
    "    #rows = [entry for entry in scores[0:n:2]]\n",
    "    #columns = [entry for entry in scores[1:n:2]]\n",
    "    #print(rows,columns)\n",
    "    rows = ['SLR scenario (X1)', 'Housing market (R1)'] \n",
    "    columns = ['Management strategy (L1)', 'Implementation time (X3)']\n",
    "    \n",
    "    discretized_x = discretize_new(x, nbins=nbins, with_labels=bin_labels)\n",
    "\n",
    "    ooi_label = 'y'\n",
    "    ooi = pd.DataFrame(y[:, np.newaxis], columns=[ooi_label])\n",
    "    #ooi = 100*ooi\n",
    "\n",
    "    x_y_concat = pd.concat([discretized_x, ooi], axis=1)\n",
    "    \n",
    "    pvt = pd.pivot_table(x_y_concat, values=ooi_label, index=rows,\n",
    "                         columns=columns, dropna=False)\n",
    "    \n",
    "    #Added to make percentags\n",
    "    pvt = 100*pvt\n",
    "    \n",
    "    #changed vmax \n",
    "    fig = plot_pivot_table_new(pvt, plot_labels=labels,\n",
    "        plot_cats=categories,figsize=(11,11),\n",
    "        cmap=cmap,vmax=100,annot=False)\n",
    "    \n",
    "    return fig,pvt,discretized_x\n",
    "\n",
    "def plot_pivot_table_new(table, plot_labels=True, plot_cats=True,\n",
    "                     figsize=(10, 10), cmap='viridis', **kwargs):\n",
    "    ''' visualize a pivot table using colors\n",
    "    Parameters\n",
    "    ----------\n",
    "    table : Pandas DataFrame\n",
    "    plot_labels : bool, optional\n",
    "                 if true, display uncertain factor names\n",
    "    plot_cats : bool, optional\n",
    "                 if true, display category labels for each uncertain factor\n",
    "    fig_size : tuple of 2 ints, optional\n",
    "               size of the figure to create\n",
    "    cmap : matplotlib colormap name or object, optional\n",
    "           default is viridis (requires matplotlib 1.5 or higher)\n",
    "    kwargs : other keyword arguments\n",
    "             All other keyword arguments are passed to ax.pcolormesh.\n",
    "    Returns\n",
    "    -------\n",
    "    Figure\n",
    "    '''\n",
    "\n",
    "    with sns.axes_style('white'):\n",
    "\n",
    "        fig = plt.figure(figsize=figsize)\n",
    "\n",
    "        width_ratios = ds.dim_ratios(figsize=figsize, axis=1)\n",
    "        height_ratios = ds.dim_ratios(figsize=figsize, axis=0)\n",
    "\n",
    "        gs = mpl.gridspec.GridSpec(3, 3, wspace=0.01, hspace=0.01,\n",
    "                                   width_ratios=width_ratios,\n",
    "                                   height_ratios=height_ratios)\n",
    "\n",
    "        ax_plot = fig.add_subplot(gs[2, 2])\n",
    "        ax_rows = fig.add_subplot(gs[2, 0:2], facecolor=\"white\")\n",
    "        ax_cols = fig.add_subplot(gs[0:2, 2], facecolor=\"white\")\n",
    "        cax = fig.add_subplot(gs[0, 0])\n",
    "\n",
    "        # actual plotting\n",
    "        plot_data = table.values\n",
    "        sns.heatmap(plot_data, ax=ax_plot, cbar_ax=cax, cmap=cmap, \n",
    "                    vmin=0, **kwargs)\n",
    "\n",
    "        # set the tick labels\n",
    "        ax_plot.set_xticks([])\n",
    "        ax_plot.set_yticks([])\n",
    "\n",
    "        # plot row labeling\n",
    "        ax_rows.set_ylim(ax_plot.get_ylim())\n",
    "        ax_rows.set_xlim(0, 1)\n",
    "        ds.plot_index(ax_rows, ax_plot, axis=1, index=table.index,\n",
    "                   plot_labels=plot_labels, plot_cats=plot_cats)\n",
    "\n",
    "        # plot column labeling\n",
    "        ax_cols.set_xlim(ax_plot.get_xlim())\n",
    "        ax_cols.set_ylim(0, 1)\n",
    "        ds.plot_index(ax_cols, ax_plot, axis=0, index=table.columns,\n",
    "                   plot_labels=plot_labels, plot_cats=plot_cats)\n",
    "\n",
    "    return fig\n",
    "\n",
    "fig,pvt,discretized_x = create_pivot_plot_new(x,y, nr_levels=2, nbins=5,categories=True,bin_labels=True,cmap=cmap)"
   ]
  },
  {
   "cell_type": "markdown",
   "metadata": {},
   "source": [
    "### Now we make the plot slightly nicer by inverting the mapping "
   ]
  },
  {
   "cell_type": "code",
   "execution_count": 33,
   "metadata": {},
   "outputs": [
    {
     "name": "stdout",
     "output_type": "stream",
     "text": [
      "[(10.0, 12.0], (12.0, 14.0], (8.0, 10.0], (3.99, 6.0], (6.0, 8.0]]\n",
      "Categories (5, interval[float64]): [(3.99, 6.0] < (6.0, 8.0] < (8.0, 10.0] < (10.0, 12.0] < (12.0, 14.0]]\n"
     ]
    }
   ],
   "source": [
    "ITs = discretized_x['Implementation time (X3)'].unique() #unique values of implementation times\n",
    "print(ITs)"
   ]
  },
  {
   "cell_type": "code",
   "execution_count": 34,
   "metadata": {},
   "outputs": [],
   "source": [
    "#Provide nicer categories for the ITs\n",
    "map_ITs = {str(ITs[3]) : '4-6',\n",
    "           str(ITs[4]) : '7-8',\n",
    "           str(ITs[1]) : '13-14',\n",
    "           str(ITs[2]) : '9-10',\n",
    "           str(ITs[0]) : '11-12'}"
   ]
  },
  {
   "cell_type": "code",
   "execution_count": 35,
   "metadata": {},
   "outputs": [],
   "source": [
    "horizontal_texts = fig._axstack._elements[2][1][1].texts\n",
    "for i,text in enumerate(horizontal_texts):\n",
    "    if i % (len(ITs)+1) == 0: #it's a mayor text\n",
    "        text._text = map_mayor_invert[text._text]\n",
    "        \n",
    "    else: #It is an implementation time\n",
    "            text._text = map_ITs[text._text]"
   ]
  },
  {
   "cell_type": "code",
   "execution_count": 36,
   "metadata": {},
   "outputs": [
    {
     "data": {
      "image/png": "[encoded data removed]",
      "text/plain": [
       "<Figure size 792x792 with 4 Axes>"
      ]
     },
     "execution_count": 36,
     "metadata": {},
     "output_type": "execute_result"
    }
   ],
   "source": [
    "fig"
   ]
  },
  {
   "cell_type": "code",
   "execution_count": 37,
   "metadata": {},
   "outputs": [],
   "source": [
    "vertical_texts = fig._axstack._elements[1][1][1].texts\n",
    "for i, text in enumerate(vertical_texts):\n",
    "    if i % 3 == 0: #number can be divided by three\n",
    "        pass #don't change the SLR labels\n",
    "    else:\n",
    "        text._text = map_house_market_invert[text._text]\n",
    "        #if text._text == '0': text._text = 'R'\n",
    "        #elif text._text == '1': text._text =  'BR'"
   ]
  },
  {
   "cell_type": "code",
   "execution_count": 38,
   "metadata": {},
   "outputs": [
    {
     "data": {
      "image/png": "[encoded data removed]",
      "text/plain": [
       "<Figure size 792x792 with 4 Axes>"
      ]
     },
     "execution_count": 38,
     "metadata": {},
     "output_type": "execute_result"
    }
   ],
   "source": [
    "fig"
   ]
  },
  {
   "cell_type": "code",
   "execution_count": 39,
   "metadata": {},
   "outputs": [],
   "source": [
    "today = datetime.date(datetime.now())\n",
    "date = \"{}_{}_{}\".format(today.year,today.month,today.day)\n",
    "\n",
    "target = Path(date)\n",
    "\n",
    "if not Path.exists(target): Path.mkdir(target)\n",
    "\n",
    "fig.savefig((target / \"Dimstack_fivehundred_CC_below_{}.png\".format(threshold_year)),bbox_inches=\"tight\",dpi=200)"
   ]
  },
  {
   "cell_type": "code",
   "execution_count": null,
   "metadata": {},
   "outputs": [],
   "source": []
  }
 ],
 "metadata": {
  "kernelspec": {
   "display_name": "Python 3",
   "language": "python",
   "name": "python3"
  },
  "language_info": {
   "codemirror_mode": {
    "name": "ipython",
    "version": 3
   },
   "file_extension": ".py",
   "mimetype": "text/x-python",
   "name": "python",
   "nbconvert_exporter": "python",
   "pygments_lexer": "ipython3",
   "version": "3.8.2"
  }
 },
 "nbformat": 4,
 "nbformat_minor": 4
}
