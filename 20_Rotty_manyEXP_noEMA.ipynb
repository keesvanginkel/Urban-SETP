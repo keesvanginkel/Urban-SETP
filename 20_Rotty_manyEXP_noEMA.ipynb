{
 "cells": [
  {
   "cell_type": "markdown",
   "metadata": {},
   "source": [
    "### Run multiple experiments without the Workbench\n",
    "\n",
    "Workflow to run multiple experiments without using the workbench. For example for as prepatory step before testing the TP identification algorithm (Figure 5 of paper)."
   ]
  },
  {
   "cell_type": "code",
   "execution_count": 1,
   "metadata": {},
   "outputs": [],
   "source": [
    "from classes import *\n",
    "import copy\n",
    "from collections import OrderedDict\n",
    "import csv\n",
    "from datetime import datetime\n",
    "import numpy as np\n",
    "import matplotlib.pyplot as plt\n",
    "from matplotlib.lines import Line2D\n",
    "from pathlib import Path\n",
    "#import ipywidgets as widgets\n",
    "import pickle\n",
    "\n",
    "from tqdm.notebook import tqdm\n",
    "\n",
    "\n",
    "from models import Rotty\n",
    "from mayors import *"
   ]
  },
  {
   "cell_type": "code",
   "execution_count": 2,
   "metadata": {},
   "outputs": [
    {
     "name": "stdout",
     "output_type": "stream",
     "text": [
      "Model: Rotty \n",
      "FloodProtection objects: No; Dike;  \n",
      "ResidentialAreas: Area_A; Area_B; \n"
     ]
    }
   ],
   "source": [
    "print(Rotty)"
   ]
  },
  {
   "cell_type": "code",
   "execution_count": 3,
   "metadata": {},
   "outputs": [
    {
     "name": "stdout",
     "output_type": "stream",
     "text": [
      "70\n"
     ]
    }
   ],
   "source": [
    "select_SLR = ['1','2','3','4','5','7','9']\n",
    "select_SH = ['0','1','2','3','4','124','272','312','429','451']\n",
    "\n",
    "#reset_scenarios(allSLR_Scenario,allSurgeHeight,allSurgeLevel) #Does not work well... why?\n",
    "\n",
    "# Load and filter SLR_Scenario\n",
    "allSLR_Scenario = SLR_Scenario_from_pickles(Path('SLR_projections','Transients'))\n",
    "selected_SLR_Scenario = [x for x in allSLR_Scenario if x.name[-1] in select_SLR]\n",
    "\n",
    "#Load all SurgeHeight (Realisations of extreme value distribution)\n",
    "for path in Path('SurgeHeight','biased_from_five_hundred').glob('*.csv'):\n",
    "    if path.stem.split('_')[-1] in select_SH:\n",
    "        obj = SurgeHeight(path.stem) #Init object with name derived from filename\n",
    "        obj.from_csv(path) #Fill the object with data from the csv file\n",
    "\n",
    "# Create SurgeLevels by summing combinations of SLR_Scenario and SurgeHeights\n",
    "for SLR_Scenario in selected_SLR_Scenario:\n",
    "    for SH in allSurgeHeight:\n",
    "        combine_SurgeLevel(SLR_Scenario,SH)\n",
    "        \n",
    "print(len(allSurgeLevel))"
   ]
  },
  {
   "cell_type": "code",
   "execution_count": 4,
   "metadata": {},
   "outputs": [],
   "source": [
    "allMayors = [Reactive(),Economicus(),Sentiment(),Lawkeeper()]"
   ]
  },
  {
   "cell_type": "code",
   "execution_count": 5,
   "metadata": {},
   "outputs": [],
   "source": [
    "Implementation_times = [ #small measure, large measure\n",
    "    (4,6),\n",
    "    #(5,7),\n",
    "    #(6,9), \n",
    "    (7,10), #default\n",
    "    #(8,11),\n",
    "    (9,13),\n",
    "    #(10,14),\n",
    "    (11,16),\n",
    "    #(12,17),\n",
    "    #(13,19),\n",
    "    (14,20)]"
   ]
  },
  {
   "cell_type": "code",
   "execution_count": 6,
   "metadata": {},
   "outputs": [
    {
     "data": {
      "text/plain": [
       "1400"
      ]
     },
     "execution_count": 6,
     "metadata": {},
     "output_type": "execute_result"
    }
   ],
   "source": [
    "len(allSurgeLevel)*len(allMayors)*len(Implementation_times)"
   ]
  },
  {
   "cell_type": "code",
   "execution_count": 7,
   "metadata": {},
   "outputs": [],
   "source": [
    "from run_model import run_model01"
   ]
  },
  {
   "cell_type": "code",
   "execution_count": 8,
   "metadata": {},
   "outputs": [
    {
     "data": {
      "application/vnd.jupyter.widget-view+json": {
       "model_id": "081ef334112741f1aa11b6555608bc8b",
       "version_major": 2,
       "version_minor": 0
      },
      "text/plain": [
       "HBox(children=(FloatProgress(value=0.0, max=1400.0), HTML(value='')))"
      ]
     },
     "metadata": {},
     "output_type": "display_data"
    },
    {
     "name": "stdout",
     "output_type": "stream",
     "text": [
      "\n",
      "experiments finished\n"
     ]
    }
   ],
   "source": [
    "#run all Majors\n",
    "allExperiments = []\n",
    "with tqdm(total =len(allSurgeLevel)*len(allMayors)*len(Implementation_times)) as pbar:\n",
    "    for SurgeLevel in allSurgeLevel:\n",
    "        #print(\"\\n \\n {} \\n\\n------------- \\n\\n\".format(SurgeLevel.name))\n",
    "        for Mayor in allMayors:\n",
    "            for implementation_time in Implementation_times:\n",
    "                experiment = run_model01(Rotty,SurgeLevel,Mayor,implementation_time,do_print=False)\n",
    "                allExperiments.append(experiment)\n",
    "                pbar.update(1)\n",
    "print('experiments finished')"
   ]
  },
  {
   "cell_type": "code",
   "execution_count": 10,
   "metadata": {},
   "outputs": [],
   "source": [
    "experiments=allExperiments\n",
    "\n",
    "target = Path(\"temp\",\"experiments\")\n",
    "\n",
    "today = datetime.date(datetime.now())\n",
    "date = \"{}_{}_{}\".format(today.year,today.month,today.day)\n",
    "\n",
    "assert target.exists()\n",
    "pickle.dump(experiments, open( os.path.join(target,\"experiment_selection_\" + date +  \".p\"), \"wb\") ) "
   ]
  },
  {
   "cell_type": "code",
   "execution_count": null,
   "metadata": {},
   "outputs": [],
   "source": []
  }
 ],
 "metadata": {
  "kernelspec": {
   "display_name": "Python 3",
   "language": "python",
   "name": "python3"
  },
  "language_info": {
   "codemirror_mode": {
    "name": "ipython",
    "version": 3
   },
   "file_extension": ".py",
   "mimetype": "text/x-python",
   "name": "python",
   "nbconvert_exporter": "python",
   "pygments_lexer": "ipython3",
   "version": "3.8.2"
  }
 },
 "nbformat": 4,
 "nbformat_minor": 4
}
