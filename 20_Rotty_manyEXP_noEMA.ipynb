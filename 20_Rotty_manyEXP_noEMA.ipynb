{
 "cells": [
  {
   "cell_type": "markdown",
   "metadata": {},
   "source": [
    "### Run multiple experiments without the Workbench\n",
    "\n",
    "Workflow to run multiple experiments without using the workbench. For example for as prepatory step before testing the TP identification algorithm (Figure 5 of paper)."
   ]
  },
  {
   "cell_type": "code",
   "execution_count": 1,
   "metadata": {},
   "outputs": [],
   "source": [
    "from classes import *\n",
    "import copy\n",
    "from collections import OrderedDict\n",
    "import csv\n",
    "from datetime import datetime\n",
    "import numpy as np\n",
    "import matplotlib.pyplot as plt\n",
    "from matplotlib.lines import Line2D\n",
    "from pathlib import Path\n",
    "#import ipywidgets as widgets\n",
    "import pickle\n",
    "\n",
    "from tqdm.notebook import tqdm\n",
    "\n",
    "\n",
    "from models import Rotty\n",
    "from mayors import *"
   ]
  },
  {
   "cell_type": "code",
   "execution_count": 2,
   "metadata": {},
   "outputs": [
    {
     "name": "stdout",
     "output_type": "stream",
     "text": [
      "Model: Rotty \n",
      "FloodProtection objects: No; Dike;  \n",
      "ResidentialAreas: Area_A; Area_B; \n"
     ]
    }
   ],
   "source": [
    "print(Rotty)"
   ]
  },
  {
   "cell_type": "code",
   "execution_count": 3,
   "metadata": {},
   "outputs": [
    {
     "name": "stdout",
     "output_type": "stream",
     "text": [
      "70\n"
     ]
    }
   ],
   "source": [
    "select_SLR = ['1','2','3','4','5','7','9']\n",
    "select_SH = ['0','1','2','3','4','124','272','312','429','451']\n",
    "\n",
    "#reset_scenarios(allSLR_Scenario,allSurgeHeight,allSurgeLevel) #Does not work well... why?\n",
    "\n",
    "# Load and filter SLR_Scenario\n",
    "allSLR_Scenario = SLR_Scenario_from_pickles(Path('SLR_projections','Transients'))\n",
    "selected_SLR_Scenario = [x for x in allSLR_Scenario if x.name[-1] in select_SLR]\n",
    "\n",
    "#Load all SurgeHeight (Realisations of extreme value distribution)\n",
    "for path in Path('SurgeHeight','biased_from_five_hundred').glob('*.csv'):\n",
    "    if path.stem.split('_')[-1] in select_SH:\n",
    "        obj = SurgeHeight(path.stem) #Init object with name derived from filename\n",
    "        obj.from_csv(path) #Fill the object with data from the csv file\n",
    "\n",
    "# Create SurgeLevels by summing combinations of SLR_Scenario and SurgeHeights\n",
    "for SLR_Scenario in selected_SLR_Scenario:\n",
    "    for SH in allSurgeHeight:\n",
    "        combine_SurgeLevel(SLR_Scenario,SH)\n",
    "        \n",
    "print(len(allSurgeLevel))"
   ]
  },
  {
   "cell_type": "code",
   "execution_count": 4,
   "metadata": {},
   "outputs": [],
   "source": [
    "allMayors = [Reactive(),Economicus(),Sentiment(),Lawkeeper()]"
   ]
  },
  {
   "cell_type": "code",
   "execution_count": 5,
   "metadata": {},
   "outputs": [],
   "source": [
    "Implementation_times = [ #small measure, large measure\n",
    "    (4,6),\n",
    "    #(5,7),\n",
    "    #(6,9), \n",
    "    (7,10), #default\n",
    "    #(8,11),\n",
    "    (9,13),\n",
    "    #(10,14),\n",
    "    (11,16),\n",
    "    #(12,17),\n",
    "    #(13,19),\n",
    "    (14,20)]"
   ]
  },
  {
   "cell_type": "code",
   "execution_count": 6,
   "metadata": {},
   "outputs": [
    {
     "data": {
      "text/plain": [
       "1400"
      ]
     },
     "execution_count": 6,
     "metadata": {},
     "output_type": "execute_result"
    }
   ],
   "source": [
    "len(allSurgeLevel)*len(allMayors)*len(Implementation_times)"
   ]
  },
  {
   "cell_type": "code",
   "execution_count": 7,
   "metadata": {},
   "outputs": [],
   "source": [
    "from run_model import run_model01"
   ]
  },
  {
   "cell_type": "code",
   "execution_count": 8,
   "metadata": {},
   "outputs": [
    {
     "data": {
      "application/vnd.jupyter.widget-view+json": {
       "model_id": "cda351cd80b0491b8e0cc795f571ff61",
       "version_major": 2,
       "version_minor": 0
      },
      "text/plain": [
       "HBox(children=(FloatProgress(value=0.0, max=1400.0), HTML(value='')))"
      ]
     },
     "metadata": {},
     "output_type": "display_data"
    },
    {
     "name": "stdout",
     "output_type": "stream",
     "text": [
      "\n"
     ]
    },
    {
     "ename": "AttributeError",
     "evalue": "'ResidentialArea' object has no attribute 'event_impact_history'",
     "output_type": "error",
     "traceback": [
      "\u001b[1;31m---------------------------------------------------------------------------\u001b[0m",
      "\u001b[1;31mAttributeError\u001b[0m                            Traceback (most recent call last)",
      "\u001b[1;32m<ipython-input-8-297dbd04ae9b>\u001b[0m in \u001b[0;36m<module>\u001b[1;34m\u001b[0m\n\u001b[0;32m      6\u001b[0m         \u001b[1;32mfor\u001b[0m \u001b[0mMayor\u001b[0m \u001b[1;32min\u001b[0m \u001b[0mallMayors\u001b[0m\u001b[1;33m:\u001b[0m\u001b[1;33m\u001b[0m\u001b[1;33m\u001b[0m\u001b[0m\n\u001b[0;32m      7\u001b[0m             \u001b[1;32mfor\u001b[0m \u001b[0mimplementation_time\u001b[0m \u001b[1;32min\u001b[0m \u001b[0mImplementation_times\u001b[0m\u001b[1;33m:\u001b[0m\u001b[1;33m\u001b[0m\u001b[1;33m\u001b[0m\u001b[0m\n\u001b[1;32m----> 8\u001b[1;33m                 \u001b[0mexperiment\u001b[0m \u001b[1;33m=\u001b[0m \u001b[0mrun_model01\u001b[0m\u001b[1;33m(\u001b[0m\u001b[0mRotty\u001b[0m\u001b[1;33m,\u001b[0m\u001b[0mSurgeLevel\u001b[0m\u001b[1;33m,\u001b[0m\u001b[0mMayor\u001b[0m\u001b[1;33m,\u001b[0m\u001b[0mimplementation_time\u001b[0m\u001b[1;33m,\u001b[0m\u001b[0mdo_print\u001b[0m\u001b[1;33m=\u001b[0m\u001b[1;32mFalse\u001b[0m\u001b[1;33m)\u001b[0m\u001b[1;33m\u001b[0m\u001b[1;33m\u001b[0m\u001b[0m\n\u001b[0m\u001b[0;32m      9\u001b[0m                 \u001b[0mallExperiments\u001b[0m\u001b[1;33m.\u001b[0m\u001b[0mappend\u001b[0m\u001b[1;33m(\u001b[0m\u001b[0mexperiment\u001b[0m\u001b[1;33m)\u001b[0m\u001b[1;33m\u001b[0m\u001b[1;33m\u001b[0m\u001b[0m\n\u001b[0;32m     10\u001b[0m                 \u001b[0mpbar\u001b[0m\u001b[1;33m.\u001b[0m\u001b[0mupdate\u001b[0m\u001b[1;33m(\u001b[0m\u001b[1;36m1\u001b[0m\u001b[1;33m)\u001b[0m\u001b[1;33m\u001b[0m\u001b[1;33m\u001b[0m\u001b[0m\n",
      "\u001b[1;32mD:\\Python\\Urban-SETP\\run_model.py\u001b[0m in \u001b[0;36mrun_model01\u001b[1;34m(Model, SurgeLevel, Mayor, Implementation_time, do_print)\u001b[0m\n\u001b[0;32m    135\u001b[0m \u001b[1;33m\u001b[0m\u001b[0m\n\u001b[0;32m    136\u001b[0m         \u001b[1;31m#IMPLEMENT FLOOD PROTECTION MEASURES\u001b[0m\u001b[1;33m\u001b[0m\u001b[1;33m\u001b[0m\u001b[1;33m\u001b[0m\u001b[0m\n\u001b[1;32m--> 137\u001b[1;33m         \u001b[0mMayor\u001b[0m\u001b[1;33m.\u001b[0m\u001b[0mapply_strategy\u001b[0m\u001b[1;33m(\u001b[0m\u001b[0mModel\u001b[0m\u001b[1;33m,\u001b[0m\u001b[0mSurgeLevel\u001b[0m\u001b[1;33m,\u001b[0m\u001b[0mMeasures\u001b[0m\u001b[1;33m,\u001b[0m\u001b[0mi\u001b[0m\u001b[1;33m,\u001b[0m\u001b[0mtime\u001b[0m\u001b[1;33m)\u001b[0m\u001b[1;33m\u001b[0m\u001b[1;33m\u001b[0m\u001b[0m\n\u001b[0m\u001b[0;32m    138\u001b[0m         \u001b[1;32mfor\u001b[0m \u001b[0mmeasure\u001b[0m \u001b[1;32min\u001b[0m \u001b[0mallactiveMeasure\u001b[0m\u001b[1;33m:\u001b[0m \u001b[1;31m#tell all measures that are currently planned that a timestep has passed and that their implementation is coming near\u001b[0m\u001b[1;33m\u001b[0m\u001b[1;33m\u001b[0m\u001b[0m\n\u001b[0;32m    139\u001b[0m             \u001b[0mmeasure\u001b[0m\u001b[1;33m.\u001b[0m\u001b[0mcountdown\u001b[0m\u001b[1;33m(\u001b[0m\u001b[0mi\u001b[0m\u001b[1;33m,\u001b[0m\u001b[0mlen\u001b[0m\u001b[1;33m(\u001b[0m\u001b[0mtime\u001b[0m\u001b[1;33m)\u001b[0m\u001b[1;33m)\u001b[0m \u001b[1;31m#we need to tell the measure instances which timestep it is\u001b[0m\u001b[1;33m\u001b[0m\u001b[1;33m\u001b[0m\u001b[0m\n",
      "\u001b[1;32mD:\\Python\\Urban-SETP\\mayors.py\u001b[0m in \u001b[0;36mapply_strategy\u001b[1;34m(self, Model, SurgeLevel, Measures, i, time)\u001b[0m\n\u001b[0;32m     61\u001b[0m         \u001b[0mFP\u001b[0m \u001b[1;33m=\u001b[0m \u001b[0mModel\u001b[0m\u001b[1;33m.\u001b[0m\u001b[0mallFloodProtection\u001b[0m\u001b[1;33m[\u001b[0m\u001b[1;36m1\u001b[0m\u001b[1;33m]\u001b[0m \u001b[1;31m#the object to which to apply the heightening\u001b[0m\u001b[1;33m\u001b[0m\u001b[1;33m\u001b[0m\u001b[0m\n\u001b[0;32m     62\u001b[0m \u001b[1;33m\u001b[0m\u001b[0m\n\u001b[1;32m---> 63\u001b[1;33m         \u001b[1;32mif\u001b[0m \u001b[0mCC\u001b[0m\u001b[1;33m.\u001b[0m\u001b[0mevent_impact_history\u001b[0m\u001b[1;33m[\u001b[0m\u001b[0mi\u001b[0m\u001b[1;33m]\u001b[0m \u001b[1;33m==\u001b[0m \u001b[1;36m10\u001b[0m\u001b[1;33m:\u001b[0m\u001b[1;33m\u001b[0m\u001b[1;33m\u001b[0m\u001b[0m\n\u001b[0m\u001b[0;32m     64\u001b[0m             \u001b[1;31m#print('Small measure triggered', str(time[i]))\u001b[0m\u001b[1;33m\u001b[0m\u001b[1;33m\u001b[0m\u001b[1;33m\u001b[0m\u001b[0m\n\u001b[0;32m     65\u001b[0m             \u001b[1;31m#print(small.name, small.lead_time)\u001b[0m\u001b[1;33m\u001b[0m\u001b[1;33m\u001b[0m\u001b[1;33m\u001b[0m\u001b[0m\n",
      "\u001b[1;31mAttributeError\u001b[0m: 'ResidentialArea' object has no attribute 'event_impact_history'"
     ]
    }
   ],
   "source": [
    "#run all Majors\n",
    "allExperiments = []\n",
    "with tqdm(total =len(allSurgeLevel)*len(allMayors)*len(Implementation_times)) as pbar:\n",
    "    for SurgeLevel in allSurgeLevel:\n",
    "        #print(\"\\n \\n {} \\n\\n------------- \\n\\n\".format(SurgeLevel.name))\n",
    "        for Mayor in allMayors:\n",
    "            for implementation_time in Implementation_times:\n",
    "                experiment = run_model01(Rotty,SurgeLevel,Mayor,implementation_time,do_print=False)\n",
    "                allExperiments.append(experiment)\n",
    "                pbar.update(1)\n",
    "print('experiments finished')"
   ]
  },
  {
   "cell_type": "code",
   "execution_count": null,
   "metadata": {},
   "outputs": [],
   "source": [
    "Rotty.allResidentialArea[1].__dict__"
   ]
  },
  {
   "cell_type": "code",
   "execution_count": 10,
   "metadata": {},
   "outputs": [],
   "source": [
    "experiments=allExperiments\n",
    "\n",
    "target = Path(\"temp\",\"experiments\")\n",
    "\n",
    "today = datetime.date(datetime.now())\n",
    "date = \"{}_{}_{}\".format(today.year,today.month,today.day)\n",
    "\n",
    "assert target.exists()\n",
    "pickle.dump(experiments, open( os.path.join(target,\"experiment_selection_\" + date +  \".p\"), \"wb\") ) "
   ]
  },
  {
   "cell_type": "code",
   "execution_count": null,
   "metadata": {},
   "outputs": [],
   "source": []
  }
 ],
 "metadata": {
  "kernelspec": {
   "display_name": "Python 3",
   "language": "python",
   "name": "python3"
  },
  "language_info": {
   "codemirror_mode": {
    "name": "ipython",
    "version": 3
   },
   "file_extension": ".py",
   "mimetype": "text/x-python",
   "name": "python",
   "nbconvert_exporter": "python",
   "pygments_lexer": "ipython3",
   "version": "3.8.2"
  }
 },
 "nbformat": 4,
 "nbformat_minor": 4
}
