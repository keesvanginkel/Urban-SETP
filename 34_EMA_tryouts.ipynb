{
 "cells": [
  {
   "cell_type": "code",
   "execution_count": 2,
   "metadata": {},
   "outputs": [],
   "source": [
    "#Workbench imports\n",
    "import math\n",
    "import pandas as pd\n",
    "import seaborn as sns\n",
    "import matplotlib.pyplot as plt\n",
    "\n",
    "from scipy.optimize import brentq\n",
    "\n",
    "from pathlib import Path"
   ]
  },
  {
   "cell_type": "markdown",
   "metadata": {},
   "source": [
    "### Load results from EMA Workbench run (see notebook 30), inspect and clean the raw results"
   ]
  },
  {
   "cell_type": "code",
   "execution_count": 3,
   "metadata": {},
   "outputs": [
    {
     "name": "stderr",
     "output_type": "stream",
     "text": [
      "C:\\Users\\Ginkel\\AppData\\Local\\Continuum\\anaconda3\\envs\\urban-SETP\\lib\\site-packages\\ema_workbench\\em_framework\\evaluators.py:21: UserWarning: ipyparallel not installed - IpyparalleEvaluator not available\n",
      "  warnings.warn(\n",
      "C:\\Users\\Ginkel\\AppData\\Local\\Continuum\\anaconda3\\envs\\urban-SETP\\lib\\site-packages\\ema_workbench\\em_framework\\optimization.py:48: ImportWarning: platypus based optimization not available\n",
      "  warnings.warn(\"platypus based optimization not available\", ImportWarning)\n"
     ]
    },
    {
     "data": {
      "text/html": [
       "<div>\n",
       "<style scoped>\n",
       "    .dataframe tbody tr th:only-of-type {\n",
       "        vertical-align: middle;\n",
       "    }\n",
       "\n",
       "    .dataframe tbody tr th {\n",
       "        vertical-align: top;\n",
       "    }\n",
       "\n",
       "    .dataframe thead th {\n",
       "        text-align: right;\n",
       "    }\n",
       "</style>\n",
       "<table border=\"1\" class=\"dataframe\">\n",
       "  <thead>\n",
       "    <tr style=\"text-align: right;\">\n",
       "      <th></th>\n",
       "      <th>Housing_market</th>\n",
       "      <th>SLR</th>\n",
       "      <th>implementation_time</th>\n",
       "      <th>transient</th>\n",
       "      <th>Mayor</th>\n",
       "      <th>scenario</th>\n",
       "      <th>policy</th>\n",
       "      <th>model</th>\n",
       "    </tr>\n",
       "  </thead>\n",
       "  <tbody>\n",
       "    <tr>\n",
       "      <th>395995</th>\n",
       "      <td>rational</td>\n",
       "      <td>1</td>\n",
       "      <td>4</td>\n",
       "      <td>SurgeHeight\\five_hundred\\five_hundred_430.csv</td>\n",
       "      <td>Lawkeeper</td>\n",
       "      <td>98995</td>\n",
       "      <td>3</td>\n",
       "      <td>Rotty</td>\n",
       "    </tr>\n",
       "    <tr>\n",
       "      <th>395996</th>\n",
       "      <td>rational</td>\n",
       "      <td>3</td>\n",
       "      <td>13</td>\n",
       "      <td>SurgeHeight\\five_hundred\\five_hundred_453.csv</td>\n",
       "      <td>Lawkeeper</td>\n",
       "      <td>98996</td>\n",
       "      <td>3</td>\n",
       "      <td>Rotty</td>\n",
       "    </tr>\n",
       "    <tr>\n",
       "      <th>395997</th>\n",
       "      <td>boundedly_rational</td>\n",
       "      <td>3</td>\n",
       "      <td>10</td>\n",
       "      <td>SurgeHeight\\five_hundred\\five_hundred_157.csv</td>\n",
       "      <td>Lawkeeper</td>\n",
       "      <td>98997</td>\n",
       "      <td>3</td>\n",
       "      <td>Rotty</td>\n",
       "    </tr>\n",
       "    <tr>\n",
       "      <th>395998</th>\n",
       "      <td>boundedly_rational</td>\n",
       "      <td>5</td>\n",
       "      <td>11</td>\n",
       "      <td>SurgeHeight\\five_hundred\\five_hundred_32.csv</td>\n",
       "      <td>Lawkeeper</td>\n",
       "      <td>98998</td>\n",
       "      <td>3</td>\n",
       "      <td>Rotty</td>\n",
       "    </tr>\n",
       "    <tr>\n",
       "      <th>395999</th>\n",
       "      <td>rational</td>\n",
       "      <td>6</td>\n",
       "      <td>4</td>\n",
       "      <td>SurgeHeight\\five_hundred\\five_hundred_308.csv</td>\n",
       "      <td>Lawkeeper</td>\n",
       "      <td>98999</td>\n",
       "      <td>3</td>\n",
       "      <td>Rotty</td>\n",
       "    </tr>\n",
       "  </tbody>\n",
       "</table>\n",
       "</div>"
      ],
      "text/plain": [
       "            Housing_market SLR implementation_time  \\\n",
       "395995            rational   1                   4   \n",
       "395996            rational   3                  13   \n",
       "395997  boundedly_rational   3                  10   \n",
       "395998  boundedly_rational   5                  11   \n",
       "395999            rational   6                   4   \n",
       "\n",
       "                                            transient      Mayor scenario  \\\n",
       "395995  SurgeHeight\\five_hundred\\five_hundred_430.csv  Lawkeeper    98995   \n",
       "395996  SurgeHeight\\five_hundred\\five_hundred_453.csv  Lawkeeper    98996   \n",
       "395997  SurgeHeight\\five_hundred\\five_hundred_157.csv  Lawkeeper    98997   \n",
       "395998   SurgeHeight\\five_hundred\\five_hundred_32.csv  Lawkeeper    98998   \n",
       "395999  SurgeHeight\\five_hundred\\five_hundred_308.csv  Lawkeeper    98999   \n",
       "\n",
       "       policy  model  \n",
       "395995      3  Rotty  \n",
       "395996      3  Rotty  \n",
       "395997      3  Rotty  \n",
       "395998      3  Rotty  \n",
       "395999      3  Rotty  "
      ]
     },
     "execution_count": 3,
     "metadata": {},
     "output_type": "execute_result"
    }
   ],
   "source": [
    "from ema_workbench import load_results\n",
    "\n",
    "target = Path(\"temp\",\"experiments\")\n",
    "experiments, outcomes = load_results(target / \"2021_2_23_EMA_experiments_five_hundred.tar.gz\")\n",
    "experiments.tail()"
   ]
  },
  {
   "cell_type": "code",
   "execution_count": 4,
   "metadata": {},
   "outputs": [
    {
     "data": {
      "text/html": [
       "<div>\n",
       "<style scoped>\n",
       "    .dataframe tbody tr th:only-of-type {\n",
       "        vertical-align: middle;\n",
       "    }\n",
       "\n",
       "    .dataframe tbody tr th {\n",
       "        vertical-align: top;\n",
       "    }\n",
       "\n",
       "    .dataframe thead th {\n",
       "        text-align: right;\n",
       "    }\n",
       "</style>\n",
       "<table border=\"1\" class=\"dataframe\">\n",
       "  <thead>\n",
       "    <tr style=\"text-align: right;\">\n",
       "      <th></th>\n",
       "      <th>Housing_market</th>\n",
       "      <th>SLR</th>\n",
       "      <th>implementation_time</th>\n",
       "      <th>transient</th>\n",
       "      <th>Mayor</th>\n",
       "      <th>scenario</th>\n",
       "    </tr>\n",
       "  </thead>\n",
       "  <tbody>\n",
       "    <tr>\n",
       "      <th>0</th>\n",
       "      <td>boundedly_rational</td>\n",
       "      <td>4</td>\n",
       "      <td>12</td>\n",
       "      <td>SurgeHeight\\five_hundred\\five_hundred_119.csv</td>\n",
       "      <td>R. Active</td>\n",
       "      <td>0</td>\n",
       "    </tr>\n",
       "    <tr>\n",
       "      <th>1</th>\n",
       "      <td>boundedly_rational</td>\n",
       "      <td>4</td>\n",
       "      <td>14</td>\n",
       "      <td>SurgeHeight\\five_hundred\\five_hundred_90.csv</td>\n",
       "      <td>R. Active</td>\n",
       "      <td>1</td>\n",
       "    </tr>\n",
       "    <tr>\n",
       "      <th>2</th>\n",
       "      <td>boundedly_rational</td>\n",
       "      <td>2</td>\n",
       "      <td>10</td>\n",
       "      <td>SurgeHeight\\five_hundred\\five_hundred_220.csv</td>\n",
       "      <td>R. Active</td>\n",
       "      <td>2</td>\n",
       "    </tr>\n",
       "    <tr>\n",
       "      <th>3</th>\n",
       "      <td>boundedly_rational</td>\n",
       "      <td>9</td>\n",
       "      <td>9</td>\n",
       "      <td>SurgeHeight\\five_hundred\\five_hundred_141.csv</td>\n",
       "      <td>R. Active</td>\n",
       "      <td>3</td>\n",
       "    </tr>\n",
       "    <tr>\n",
       "      <th>4</th>\n",
       "      <td>rational</td>\n",
       "      <td>5</td>\n",
       "      <td>13</td>\n",
       "      <td>SurgeHeight\\five_hundred\\five_hundred_7.csv</td>\n",
       "      <td>R. Active</td>\n",
       "      <td>4</td>\n",
       "    </tr>\n",
       "  </tbody>\n",
       "</table>\n",
       "</div>"
      ],
      "text/plain": [
       "       Housing_market SLR implementation_time  \\\n",
       "0  boundedly_rational   4                  12   \n",
       "1  boundedly_rational   4                  14   \n",
       "2  boundedly_rational   2                  10   \n",
       "3  boundedly_rational   9                   9   \n",
       "4            rational   5                  13   \n",
       "\n",
       "                                       transient      Mayor scenario  \n",
       "0  SurgeHeight\\five_hundred\\five_hundred_119.csv  R. Active        0  \n",
       "1   SurgeHeight\\five_hundred\\five_hundred_90.csv  R. Active        1  \n",
       "2  SurgeHeight\\five_hundred\\five_hundred_220.csv  R. Active        2  \n",
       "3  SurgeHeight\\five_hundred\\five_hundred_141.csv  R. Active        3  \n",
       "4    SurgeHeight\\five_hundred\\five_hundred_7.csv  R. Active        4  "
      ]
     },
     "execution_count": 4,
     "metadata": {},
     "output_type": "execute_result"
    }
   ],
   "source": [
    "experiments2 = experiments.drop(['policy','model'],axis=1)\n",
    "experiments2.head()"
   ]
  },
  {
   "cell_type": "code",
   "execution_count": 5,
   "metadata": {},
   "outputs": [
    {
     "name": "stdout",
     "output_type": "stream",
     "text": [
      "<class 'pandas.core.frame.DataFrame'>\n",
      "RangeIndex: 396000 entries, 0 to 395999\n",
      "Data columns (total 6 columns):\n",
      " #   Column               Non-Null Count   Dtype   \n",
      "---  ------               --------------   -----   \n",
      " 0   Housing_market       396000 non-null  category\n",
      " 1   SLR                  396000 non-null  category\n",
      " 2   implementation_time  396000 non-null  category\n",
      " 3   transient            396000 non-null  category\n",
      " 4   Mayor                396000 non-null  category\n",
      " 5   scenario             396000 non-null  category\n",
      "dtypes: category(6)\n",
      "memory usage: 7.1 MB\n"
     ]
    }
   ],
   "source": [
    "experiments2.info()"
   ]
  },
  {
   "cell_type": "code",
   "execution_count": 6,
   "metadata": {},
   "outputs": [
    {
     "data": {
      "text/plain": [
       "{'HP_hp_2200': array([0, 0, 0, ..., 0, 0, 0], dtype=int64),\n",
       " 'CC_hp_2200': array([282357.9820158 , 286542.15584763,      0.        , ...,\n",
       "        350017.41980036, 350036.70600789, 350040.12775439]),\n",
       " 'HP_first_SETP': array([2081, 2080, 2040, ..., 2051, 2055, 9999], dtype=int64),\n",
       " 'CC_first_SETP': array([2096, 2125, 2106, ..., 9999, 9999, 9999], dtype=int64)}"
      ]
     },
     "execution_count": 6,
     "metadata": {},
     "output_type": "execute_result"
    }
   ],
   "source": [
    "outcomes"
   ]
  },
  {
   "cell_type": "code",
   "execution_count": 14,
   "metadata": {},
   "outputs": [],
   "source": [
    "experiments2['CC_first_SETP'] = outcomes['CC_first_SETP']"
   ]
  },
  {
   "cell_type": "code",
   "execution_count": 43,
   "metadata": {},
   "outputs": [
    {
     "data": {
      "text/html": [
       "<div>\n",
       "<style scoped>\n",
       "    .dataframe tbody tr th:only-of-type {\n",
       "        vertical-align: middle;\n",
       "    }\n",
       "\n",
       "    .dataframe tbody tr th {\n",
       "        vertical-align: top;\n",
       "    }\n",
       "\n",
       "    .dataframe thead th {\n",
       "        text-align: right;\n",
       "    }\n",
       "</style>\n",
       "<table border=\"1\" class=\"dataframe\">\n",
       "  <thead>\n",
       "    <tr style=\"text-align: right;\">\n",
       "      <th></th>\n",
       "      <th>Housing_market</th>\n",
       "      <th>SLR</th>\n",
       "      <th>implementation_time</th>\n",
       "      <th>transient</th>\n",
       "      <th>Mayor</th>\n",
       "      <th>scenario</th>\n",
       "      <th>CC_first_SETP</th>\n",
       "    </tr>\n",
       "  </thead>\n",
       "  <tbody>\n",
       "    <tr>\n",
       "      <th>0</th>\n",
       "      <td>boundedly_rational</td>\n",
       "      <td>4</td>\n",
       "      <td>12</td>\n",
       "      <td>SurgeHeight\\five_hundred\\five_hundred_119.csv</td>\n",
       "      <td>R. Active</td>\n",
       "      <td>0</td>\n",
       "      <td>2096</td>\n",
       "    </tr>\n",
       "    <tr>\n",
       "      <th>1</th>\n",
       "      <td>boundedly_rational</td>\n",
       "      <td>4</td>\n",
       "      <td>14</td>\n",
       "      <td>SurgeHeight\\five_hundred\\five_hundred_90.csv</td>\n",
       "      <td>R. Active</td>\n",
       "      <td>1</td>\n",
       "      <td>2125</td>\n",
       "    </tr>\n",
       "    <tr>\n",
       "      <th>2</th>\n",
       "      <td>boundedly_rational</td>\n",
       "      <td>2</td>\n",
       "      <td>10</td>\n",
       "      <td>SurgeHeight\\five_hundred\\five_hundred_220.csv</td>\n",
       "      <td>R. Active</td>\n",
       "      <td>2</td>\n",
       "      <td>2106</td>\n",
       "    </tr>\n",
       "    <tr>\n",
       "      <th>3</th>\n",
       "      <td>boundedly_rational</td>\n",
       "      <td>9</td>\n",
       "      <td>9</td>\n",
       "      <td>SurgeHeight\\five_hundred\\five_hundred_141.csv</td>\n",
       "      <td>R. Active</td>\n",
       "      <td>3</td>\n",
       "      <td>9999</td>\n",
       "    </tr>\n",
       "    <tr>\n",
       "      <th>4</th>\n",
       "      <td>rational</td>\n",
       "      <td>5</td>\n",
       "      <td>13</td>\n",
       "      <td>SurgeHeight\\five_hundred\\five_hundred_7.csv</td>\n",
       "      <td>R. Active</td>\n",
       "      <td>4</td>\n",
       "      <td>9999</td>\n",
       "    </tr>\n",
       "  </tbody>\n",
       "</table>\n",
       "</div>"
      ],
      "text/plain": [
       "       Housing_market SLR implementation_time  \\\n",
       "0  boundedly_rational   4                  12   \n",
       "1  boundedly_rational   4                  14   \n",
       "2  boundedly_rational   2                  10   \n",
       "3  boundedly_rational   9                   9   \n",
       "4            rational   5                  13   \n",
       "\n",
       "                                       transient      Mayor scenario  \\\n",
       "0  SurgeHeight\\five_hundred\\five_hundred_119.csv  R. Active        0   \n",
       "1   SurgeHeight\\five_hundred\\five_hundred_90.csv  R. Active        1   \n",
       "2  SurgeHeight\\five_hundred\\five_hundred_220.csv  R. Active        2   \n",
       "3  SurgeHeight\\five_hundred\\five_hundred_141.csv  R. Active        3   \n",
       "4    SurgeHeight\\five_hundred\\five_hundred_7.csv  R. Active        4   \n",
       "\n",
       "   CC_first_SETP  \n",
       "0           2096  \n",
       "1           2125  \n",
       "2           2106  \n",
       "3           9999  \n",
       "4           9999  "
      ]
     },
     "execution_count": 43,
     "metadata": {},
     "output_type": "execute_result"
    }
   ],
   "source": [
    "experiments2.head()"
   ]
  },
  {
   "cell_type": "markdown",
   "metadata": {},
   "source": [
    "# This is to explore sensitivity for storm surge scenarios"
   ]
  },
  {
   "cell_type": "code",
   "execution_count": 45,
   "metadata": {},
   "outputs": [
    {
     "data": {
      "text/html": [
       "<div>\n",
       "<style scoped>\n",
       "    .dataframe tbody tr th:only-of-type {\n",
       "        vertical-align: middle;\n",
       "    }\n",
       "\n",
       "    .dataframe tbody tr th {\n",
       "        vertical-align: top;\n",
       "    }\n",
       "\n",
       "    .dataframe thead th {\n",
       "        text-align: right;\n",
       "    }\n",
       "</style>\n",
       "<table border=\"1\" class=\"dataframe\">\n",
       "  <thead>\n",
       "    <tr style=\"text-align: right;\">\n",
       "      <th></th>\n",
       "      <th>Housing_market</th>\n",
       "      <th>SLR</th>\n",
       "      <th>implementation_time</th>\n",
       "      <th>transient</th>\n",
       "      <th>Mayor</th>\n",
       "      <th>scenario</th>\n",
       "      <th>CC_first_SETP</th>\n",
       "    </tr>\n",
       "  </thead>\n",
       "  <tbody>\n",
       "    <tr>\n",
       "      <th>7</th>\n",
       "      <td>boundedly_rational</td>\n",
       "      <td>3</td>\n",
       "      <td>12</td>\n",
       "      <td>65</td>\n",
       "      <td>R. Active</td>\n",
       "      <td>7</td>\n",
       "      <td>2100</td>\n",
       "    </tr>\n",
       "    <tr>\n",
       "      <th>19</th>\n",
       "      <td>boundedly_rational</td>\n",
       "      <td>3</td>\n",
       "      <td>9</td>\n",
       "      <td>267</td>\n",
       "      <td>R. Active</td>\n",
       "      <td>19</td>\n",
       "      <td>2137</td>\n",
       "    </tr>\n",
       "    <tr>\n",
       "      <th>27</th>\n",
       "      <td>boundedly_rational</td>\n",
       "      <td>3</td>\n",
       "      <td>11</td>\n",
       "      <td>430</td>\n",
       "      <td>R. Active</td>\n",
       "      <td>27</td>\n",
       "      <td>2190</td>\n",
       "    </tr>\n",
       "    <tr>\n",
       "      <th>55</th>\n",
       "      <td>boundedly_rational</td>\n",
       "      <td>3</td>\n",
       "      <td>14</td>\n",
       "      <td>251</td>\n",
       "      <td>R. Active</td>\n",
       "      <td>55</td>\n",
       "      <td>2113</td>\n",
       "    </tr>\n",
       "    <tr>\n",
       "      <th>79</th>\n",
       "      <td>boundedly_rational</td>\n",
       "      <td>3</td>\n",
       "      <td>12</td>\n",
       "      <td>83</td>\n",
       "      <td>R. Active</td>\n",
       "      <td>79</td>\n",
       "      <td>2097</td>\n",
       "    </tr>\n",
       "  </tbody>\n",
       "</table>\n",
       "</div>"
      ],
      "text/plain": [
       "        Housing_market SLR implementation_time transient      Mayor scenario  \\\n",
       "7   boundedly_rational   3                  12        65  R. Active        7   \n",
       "19  boundedly_rational   3                   9       267  R. Active       19   \n",
       "27  boundedly_rational   3                  11       430  R. Active       27   \n",
       "55  boundedly_rational   3                  14       251  R. Active       55   \n",
       "79  boundedly_rational   3                  12        83  R. Active       79   \n",
       "\n",
       "    CC_first_SETP  \n",
       "7            2100  \n",
       "19           2137  \n",
       "27           2190  \n",
       "55           2113  \n",
       "79           2097  "
      ]
     },
     "execution_count": 45,
     "metadata": {},
     "output_type": "execute_result"
    }
   ],
   "source": [
    "#Select only BR housing market\n",
    "exp = experiments2.copy()\n",
    "exp['transient'] = exp['transient'].apply(lambda x : int(x.split('five_hundred_')[1].split('.')[0]))\n",
    "exp = exp.loc[(exp['Housing_market'] == 'boundedly_rational') & (exp['SLR'] == 3) & (exp['CC_first_SETP'] <= 2200)]\n",
    "exp.head()"
   ]
  },
  {
   "cell_type": "code",
   "execution_count": 48,
   "metadata": {},
   "outputs": [
    {
     "data": {
      "text/plain": [
       "130    56\n",
       "205    52\n",
       "490    47\n",
       "328    46\n",
       "477    45\n",
       "       ..\n",
       "238     6\n",
       "101     6\n",
       "326     6\n",
       "463     5\n",
       "287     4\n",
       "Name: transient, Length: 500, dtype: int64"
      ]
     },
     "execution_count": 48,
     "metadata": {},
     "output_type": "execute_result"
    }
   ],
   "source": [
    "exp['transient'].value_counts()"
   ]
  },
  {
   "cell_type": "code",
   "execution_count": 49,
   "metadata": {},
   "outputs": [
    {
     "data": {
      "text/plain": [
       "<matplotlib.axes._subplots.AxesSubplot at 0x2b3dc34ebe0>"
      ]
     },
     "execution_count": 49,
     "metadata": {},
     "output_type": "execute_result"
    },
    {
     "data": {
      "image/png": "[encoded data removed]",
      "text/plain": [
       "<Figure size 432x288 with 1 Axes>"
      ]
     },
     "metadata": {
      "needs_background": "light"
     },
     "output_type": "display_data"
    }
   ],
   "source": [
    "exp['transient'].value_counts().hist()"
   ]
  },
  {
   "cell_type": "code",
   "execution_count": 61,
   "metadata": {},
   "outputs": [
    {
     "data": {
      "text/plain": [
       "<matplotlib.axes._subplots.AxesSubplot at 0x2b3dde839a0>"
      ]
     },
     "execution_count": 61,
     "metadata": {},
     "output_type": "execute_result"
    },
    {
     "data": {
      "image/png": "[encoded data removed]",
      "text/plain": [
       "<Figure size 432x288 with 1 Axes>"
      ]
     },
     "metadata": {
      "needs_background": "light"
     },
     "output_type": "display_data"
    }
   ],
   "source": [
    "#Select only BR housing market\n",
    "exp = experiments2.copy()\n",
    "exp['transient'] = exp['transient'].apply(lambda x : int(x.split('five_hundred_')[1].split('.')[0]))\n",
    "exp = exp.loc[(exp['Housing_market'] == 'boundedly_rational') &  (exp['SLR'] == 4) & (exp['CC_first_SETP'] <= 2150)]\n",
    "exp['transient'].value_counts().hist()"
   ]
  },
  {
   "cell_type": "code",
   "execution_count": 62,
   "metadata": {},
   "outputs": [
    {
     "data": {
      "text/plain": [
       "494    47\n",
       "404    41\n",
       "282    39\n",
       "158    39\n",
       "48     37\n",
       "       ..\n",
       "169     0\n",
       "231     0\n",
       "170     0\n",
       "433     0\n",
       "19      0\n",
       "Name: transient, Length: 500, dtype: int64"
      ]
     },
     "execution_count": 62,
     "metadata": {},
     "output_type": "execute_result"
    }
   ],
   "source": [
    "exp['transient'].value_counts()"
   ]
  },
  {
   "cell_type": "code",
   "execution_count": 64,
   "metadata": {},
   "outputs": [
    {
     "data": {
      "text/plain": [
       "<matplotlib.axes._subplots.AxesSubplot at 0x2b3ddf78be0>"
      ]
     },
     "execution_count": 64,
     "metadata": {},
     "output_type": "execute_result"
    },
    {
     "data": {
      "image/png": "[encoded data removed]",
      "text/plain": [
       "<Figure size 432x288 with 1 Axes>"
      ]
     },
     "metadata": {
      "needs_background": "light"
     },
     "output_type": "display_data"
    }
   ],
   "source": [
    "#Select only BR housing market\n",
    "exp = experiments2.copy()\n",
    "exp['transient'] = exp['transient'].apply(lambda x : int(x.split('five_hundred_')[1].split('.')[0]))\n",
    "exp = exp.loc[(exp['Housing_market'] == 'boundedly_rational') & (exp['Mayor'] == 'Sentiment') & (exp['SLR'] == 4) & (exp['CC_first_SETP'] <= 2200)]\n",
    "exp['transient'].value_counts().hist()"
   ]
  },
  {
   "cell_type": "code",
   "execution_count": 66,
   "metadata": {},
   "outputs": [
    {
     "data": {
      "text/plain": [
       "<matplotlib.axes._subplots.AxesSubplot at 0x2b3ddfee640>"
      ]
     },
     "execution_count": 66,
     "metadata": {},
     "output_type": "execute_result"
    },
    {
     "data": {
      "image/png": "[encoded data removed]",
      "text/plain": [
       "<Figure size 432x288 with 1 Axes>"
      ]
     },
     "metadata": {
      "needs_background": "light"
     },
     "output_type": "display_data"
    }
   ],
   "source": [
    "#Select only BR housing market\n",
    "exp = experiments2.copy()\n",
    "exp['transient'] = exp['transient'].apply(lambda x : int(x.split('five_hundred_')[1].split('.')[0]))\n",
    "exp = exp.loc[(exp['CC_first_SETP'] <= 2200)]\n",
    "exp['transient'].value_counts().hist()"
   ]
  },
  {
   "cell_type": "code",
   "execution_count": null,
   "metadata": {},
   "outputs": [],
   "source": []
  }
 ],
 "metadata": {
  "kernelspec": {
   "display_name": "Python 3",
   "language": "python",
   "name": "python3"
  },
  "language_info": {
   "codemirror_mode": {
    "name": "ipython",
    "version": 3
   },
   "file_extension": ".py",
   "mimetype": "text/x-python",
   "name": "python",
   "nbconvert_exporter": "python",
   "pygments_lexer": "ipython3",
   "version": "3.8.2"
  }
 },
 "nbformat": 4,
 "nbformat_minor": 4
}
